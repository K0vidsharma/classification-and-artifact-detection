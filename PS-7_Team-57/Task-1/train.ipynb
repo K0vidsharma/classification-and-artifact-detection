{
 "cells": [
  {
   "cell_type": "code",
   "execution_count": 1,
   "id": "654c947a",
   "metadata": {
    "_cell_guid": "b1076dfc-b9ad-4769-8c92-a6c4dae69d19",
    "_uuid": "8f2839f25d086af736a60e9eeb907d3b93b6e0e5",
    "execution": {
     "iopub.execute_input": "2024-12-05T19:25:24.326163Z",
     "iopub.status.busy": "2024-12-05T19:25:24.325836Z",
     "iopub.status.idle": "2024-12-05T19:25:28.672616Z",
     "shell.execute_reply": "2024-12-05T19:25:28.671914Z"
    },
    "papermill": {
     "duration": 4.354577,
     "end_time": "2024-12-05T19:25:28.674556",
     "exception": false,
     "start_time": "2024-12-05T19:25:24.319979",
     "status": "completed"
    },
    "tags": []
   },
   "outputs": [],
   "source": [
    "import os\n",
    "import numpy as np\n",
    "import torch\n",
    "import torch.nn as nn\n",
    "from tqdm import tqdm\n",
    "from PIL import Image\n",
    "from torchvision.datasets import ImageFolder\n",
    "from torchvision.transforms import transforms as T\n",
    "from torch.utils.data import DataLoader, Dataset\n",
    "from torch.optim.lr_scheduler import ReduceLROnPlateau\n",
    "from timeit import default_timer as timer"
   ]
  },
  {
   "cell_type": "code",
   "execution_count": 2,
   "id": "27addf02",
   "metadata": {
    "execution": {
     "iopub.execute_input": "2024-12-05T19:25:28.683826Z",
     "iopub.status.busy": "2024-12-05T19:25:28.683458Z",
     "iopub.status.idle": "2024-12-05T19:25:31.074705Z",
     "shell.execute_reply": "2024-12-05T19:25:31.073575Z"
    },
    "papermill": {
     "duration": 2.398481,
     "end_time": "2024-12-05T19:25:31.077023",
     "exception": false,
     "start_time": "2024-12-05T19:25:28.678542",
     "status": "completed"
    },
    "tags": []
   },
   "outputs": [
    {
     "name": "stdout",
     "output_type": "stream",
     "text": [
      "Cloning into 'pytorch_wavelets'...\r\n",
      "remote: Enumerating objects: 978, done.\u001b[K\r\n",
      "remote: Counting objects: 100% (142/142), done.\u001b[K\r\n",
      "remote: Compressing objects: 100% (96/96), done.\u001b[K\r\n",
      "remote: Total 978 (delta 79), reused 92 (delta 46), pack-reused 836 (from 1)\u001b[K\r\n",
      "Receiving objects: 100% (978/978), 6.80 MiB | 26.48 MiB/s, done.\r\n",
      "Resolving deltas: 100% (663/663), done.\r\n"
     ]
    }
   ],
   "source": [
    "!git clone https://github.com/fbcotter/pytorch_wavelets"
   ]
  },
  {
   "cell_type": "code",
   "execution_count": 3,
   "id": "4829c780",
   "metadata": {
    "execution": {
     "iopub.execute_input": "2024-12-05T19:25:31.088824Z",
     "iopub.status.busy": "2024-12-05T19:25:31.088131Z",
     "iopub.status.idle": "2024-12-05T19:25:31.094392Z",
     "shell.execute_reply": "2024-12-05T19:25:31.093475Z"
    },
    "papermill": {
     "duration": 0.013104,
     "end_time": "2024-12-05T19:25:31.096063",
     "exception": false,
     "start_time": "2024-12-05T19:25:31.082959",
     "status": "completed"
    },
    "tags": []
   },
   "outputs": [
    {
     "name": "stdout",
     "output_type": "stream",
     "text": [
      "/kaggle/working/pytorch_wavelets\n"
     ]
    }
   ],
   "source": [
    "%cd pytorch_wavelets"
   ]
  },
  {
   "cell_type": "code",
   "execution_count": 4,
   "id": "91a807bc",
   "metadata": {
    "execution": {
     "iopub.execute_input": "2024-12-05T19:25:31.106285Z",
     "iopub.status.busy": "2024-12-05T19:25:31.105810Z",
     "iopub.status.idle": "2024-12-05T19:25:42.390617Z",
     "shell.execute_reply": "2024-12-05T19:25:42.389198Z"
    },
    "papermill": {
     "duration": 11.291345,
     "end_time": "2024-12-05T19:25:42.392561",
     "exception": false,
     "start_time": "2024-12-05T19:25:31.101216",
     "status": "completed"
    },
    "tags": []
   },
   "outputs": [
    {
     "name": "stdout",
     "output_type": "stream",
     "text": [
      "Processing /kaggle/working/pytorch_wavelets\r\n",
      "  Preparing metadata (setup.py) ... \u001b[?25ldone\r\n",
      "\u001b[?25hRequirement already satisfied: numpy in /opt/conda/lib/python3.10/site-packages (from pytorch_wavelets==1.3.0) (1.26.4)\r\n",
      "Requirement already satisfied: six in /opt/conda/lib/python3.10/site-packages (from pytorch_wavelets==1.3.0) (1.16.0)\r\n",
      "Requirement already satisfied: torch in /opt/conda/lib/python3.10/site-packages (from pytorch_wavelets==1.3.0) (2.4.0)\r\n",
      "Requirement already satisfied: filelock in /opt/conda/lib/python3.10/site-packages (from torch->pytorch_wavelets==1.3.0) (3.15.1)\r\n",
      "Requirement already satisfied: typing-extensions>=4.8.0 in /opt/conda/lib/python3.10/site-packages (from torch->pytorch_wavelets==1.3.0) (4.12.2)\r\n",
      "Requirement already satisfied: sympy in /opt/conda/lib/python3.10/site-packages (from torch->pytorch_wavelets==1.3.0) (1.13.3)\r\n",
      "Requirement already satisfied: networkx in /opt/conda/lib/python3.10/site-packages (from torch->pytorch_wavelets==1.3.0) (3.3)\r\n",
      "Requirement already satisfied: jinja2 in /opt/conda/lib/python3.10/site-packages (from torch->pytorch_wavelets==1.3.0) (3.1.4)\r\n",
      "Requirement already satisfied: fsspec in /opt/conda/lib/python3.10/site-packages (from torch->pytorch_wavelets==1.3.0) (2024.6.0)\r\n",
      "Requirement already satisfied: MarkupSafe>=2.0 in /opt/conda/lib/python3.10/site-packages (from jinja2->torch->pytorch_wavelets==1.3.0) (2.1.5)\r\n",
      "Requirement already satisfied: mpmath<1.4,>=1.1.0 in /opt/conda/lib/python3.10/site-packages (from sympy->torch->pytorch_wavelets==1.3.0) (1.3.0)\r\n",
      "Building wheels for collected packages: pytorch_wavelets\r\n",
      "  Building wheel for pytorch_wavelets (setup.py) ... \u001b[?25l-\b \bdone\r\n",
      "\u001b[?25h  Created wheel for pytorch_wavelets: filename=pytorch_wavelets-1.3.0-py3-none-any.whl size=54852 sha256=a152dca16c719a8efc6597101c877b8fb89f125277a56c551f32f258d5365c6f\r\n",
      "  Stored in directory: /tmp/pip-ephem-wheel-cache-cth5pa55/wheels/b1/4f/c7/1300c122fca795cefecfec6ebfe7f3277428f044a644235bb1\r\n",
      "Successfully built pytorch_wavelets\r\n",
      "Installing collected packages: pytorch_wavelets\r\n",
      "Successfully installed pytorch_wavelets-1.3.0\r\n",
      "Note: you may need to restart the kernel to use updated packages.\n"
     ]
    }
   ],
   "source": [
    "pip install ."
   ]
  },
  {
   "cell_type": "code",
   "execution_count": 5,
   "id": "8b1fa5f7",
   "metadata": {
    "execution": {
     "iopub.execute_input": "2024-12-05T19:25:42.403722Z",
     "iopub.status.busy": "2024-12-05T19:25:42.403133Z",
     "iopub.status.idle": "2024-12-05T19:25:43.444827Z",
     "shell.execute_reply": "2024-12-05T19:25:43.443678Z"
    },
    "papermill": {
     "duration": 1.049372,
     "end_time": "2024-12-05T19:25:43.446798",
     "exception": false,
     "start_time": "2024-12-05T19:25:42.397426",
     "status": "completed"
    },
    "tags": []
   },
   "outputs": [
    {
     "name": "stdout",
     "output_type": "stream",
     "text": [
      "Thu Dec  5 19:25:43 2024       \r\n",
      "+-----------------------------------------------------------------------------------------+\r\n",
      "| NVIDIA-SMI 560.35.03              Driver Version: 560.35.03      CUDA Version: 12.6     |\r\n",
      "|-----------------------------------------+------------------------+----------------------+\r\n",
      "| GPU  Name                 Persistence-M | Bus-Id          Disp.A | Volatile Uncorr. ECC |\r\n",
      "| Fan  Temp   Perf          Pwr:Usage/Cap |           Memory-Usage | GPU-Util  Compute M. |\r\n",
      "|                                         |                        |               MIG M. |\r\n",
      "|=========================================+========================+======================|\r\n",
      "|   0  Tesla P100-PCIE-16GB           Off |   00000000:00:04.0 Off |                    0 |\r\n",
      "| N/A   31C    P0             25W /  250W |       0MiB /  16384MiB |      0%      Default |\r\n",
      "|                                         |                        |                  N/A |\r\n",
      "+-----------------------------------------+------------------------+----------------------+\r\n",
      "                                                                                         \r\n",
      "+-----------------------------------------------------------------------------------------+\r\n",
      "| Processes:                                                                              |\r\n",
      "|  GPU   GI   CI        PID   Type   Process name                              GPU Memory |\r\n",
      "|        ID   ID                                                               Usage      |\r\n",
      "|=========================================================================================|\r\n",
      "|  No running processes found                                                             |\r\n",
      "+-----------------------------------------------------------------------------------------+\r\n"
     ]
    }
   ],
   "source": [
    "!nvidia-smi"
   ]
  },
  {
   "cell_type": "code",
   "execution_count": 6,
   "id": "a45ff379",
   "metadata": {
    "execution": {
     "iopub.execute_input": "2024-12-05T19:25:43.457467Z",
     "iopub.status.busy": "2024-12-05T19:25:43.457162Z",
     "iopub.status.idle": "2024-12-05T19:25:43.515682Z",
     "shell.execute_reply": "2024-12-05T19:25:43.514793Z"
    },
    "papermill": {
     "duration": 0.065775,
     "end_time": "2024-12-05T19:25:43.517307",
     "exception": false,
     "start_time": "2024-12-05T19:25:43.451532",
     "status": "completed"
    },
    "tags": []
   },
   "outputs": [],
   "source": [
    "NUM_EPOCHS = 100\n",
    "BATCH_SIZE = 640\n",
    "TRAIN_FOLDER_DIR = \"/kaggle/input/cifake-real-and-ai-generated-synthetic-images/train\"\n",
    "TEST_FOLDER_DIR = \"/kaggle/input/cifake-real-and-ai-generated-synthetic-images/test\"\n",
    "LEARNING_RATE = 5e-3\n",
    "NUM_WORKERS = os.cpu_count()\n",
    "PIN_MEMORY = True\n",
    "DEVICE = \"cuda\" if torch.cuda.is_available() else \"cpu\""
   ]
  },
  {
   "cell_type": "code",
   "execution_count": 7,
   "id": "85510af4",
   "metadata": {
    "execution": {
     "iopub.execute_input": "2024-12-05T19:25:43.528576Z",
     "iopub.status.busy": "2024-12-05T19:25:43.527994Z",
     "iopub.status.idle": "2024-12-05T19:25:43.535432Z",
     "shell.execute_reply": "2024-12-05T19:25:43.534612Z"
    },
    "papermill": {
     "duration": 0.014755,
     "end_time": "2024-12-05T19:25:43.537004",
     "exception": false,
     "start_time": "2024-12-05T19:25:43.522249",
     "status": "completed"
    },
    "tags": []
   },
   "outputs": [],
   "source": [
    "class RealFakeDataset(Dataset):\n",
    "    def __init__(self, folder_dir, transform=None):\n",
    "        super().__init__()\n",
    "        self.transform = transform\n",
    "        self.real_img_dir = os.path.join(folder_dir, \"REAL\")\n",
    "        self.fake_img_dir = os.path.join(folder_dir, \"FAKE\")\n",
    "        self.data = []\n",
    "        for pth in os.listdir(self.real_img_dir):\n",
    "            self.data.append((os.path.join(self.real_img_dir, pth), 1))\n",
    "\n",
    "        for pth in os.listdir(self.fake_img_dir):\n",
    "            self.data.append((os.path.join(self.fake_img_dir, pth), 0))\n",
    "\n",
    "        np.random.shuffle(self.data)\n",
    "\n",
    "    def __len__(self):\n",
    "        return len(self.data)\n",
    "\n",
    "    def __getitem__(self, item):\n",
    "        img_pth, label = self.data[item]\n",
    "\n",
    "        img = np.array(Image.open(img_pth).convert(\"RGB\"), dtype=np.float32) / 255\n",
    "        if self.transform:\n",
    "            img = self.transform(img)\n",
    "\n",
    "        return img, torch.tensor([label], dtype=torch.float32)"
   ]
  },
  {
   "cell_type": "code",
   "execution_count": 8,
   "id": "4db093d0",
   "metadata": {
    "execution": {
     "iopub.execute_input": "2024-12-05T19:25:43.547181Z",
     "iopub.status.busy": "2024-12-05T19:25:43.546744Z",
     "iopub.status.idle": "2024-12-05T19:25:44.610491Z",
     "shell.execute_reply": "2024-12-05T19:25:44.609807Z"
    },
    "papermill": {
     "duration": 1.071043,
     "end_time": "2024-12-05T19:25:44.612579",
     "exception": false,
     "start_time": "2024-12-05T19:25:43.541536",
     "status": "completed"
    },
    "tags": []
   },
   "outputs": [],
   "source": [
    "transform = T.Compose([\n",
    "    T.ToTensor(),\n",
    "    T.RandomHorizontalFlip(p=0.25),\n",
    "    T.RandomVerticalFlip(p=0.25),\n",
    "    T.RandomRotation(degrees=30),\n",
    "])\n",
    "\n",
    "train_data = RealFakeDataset(folder_dir=TRAIN_FOLDER_DIR, transform=transform)\n",
    "test_data = RealFakeDataset(folder_dir=TEST_FOLDER_DIR, transform=transform)\n",
    "\n",
    "train_dataloader = DataLoader(train_data,\n",
    "                              batch_size=BATCH_SIZE,\n",
    "                              shuffle=True,\n",
    "                              num_workers=NUM_WORKERS,\n",
    "                              pin_memory=PIN_MEMORY\n",
    "                              )\n",
    "\n",
    "test_dataloader = DataLoader(test_data,\n",
    "                             batch_size=BATCH_SIZE,\n",
    "                             shuffle=False,\n",
    "                             num_workers=NUM_WORKERS,\n",
    "                             pin_memory=PIN_MEMORY\n",
    "                             )"
   ]
  },
  {
   "cell_type": "code",
   "execution_count": 9,
   "id": "5cef2894",
   "metadata": {
    "execution": {
     "iopub.execute_input": "2024-12-05T19:25:44.623443Z",
     "iopub.status.busy": "2024-12-05T19:25:44.622935Z",
     "iopub.status.idle": "2024-12-05T19:25:44.629793Z",
     "shell.execute_reply": "2024-12-05T19:25:44.628838Z"
    },
    "papermill": {
     "duration": 0.014507,
     "end_time": "2024-12-05T19:25:44.631934",
     "exception": false,
     "start_time": "2024-12-05T19:25:44.617427",
     "status": "completed"
    },
    "tags": []
   },
   "outputs": [
    {
     "data": {
      "text/plain": [
       "(100000, 20000)"
      ]
     },
     "execution_count": 9,
     "metadata": {},
     "output_type": "execute_result"
    }
   ],
   "source": [
    "len(train_data), len(test_data)"
   ]
  },
  {
   "cell_type": "code",
   "execution_count": 10,
   "id": "e4f2bca8",
   "metadata": {
    "execution": {
     "iopub.execute_input": "2024-12-05T19:25:44.642815Z",
     "iopub.status.busy": "2024-12-05T19:25:44.642268Z",
     "iopub.status.idle": "2024-12-05T19:25:44.656412Z",
     "shell.execute_reply": "2024-12-05T19:25:44.655622Z"
    },
    "papermill": {
     "duration": 0.021241,
     "end_time": "2024-12-05T19:25:44.658029",
     "exception": false,
     "start_time": "2024-12-05T19:25:44.636788",
     "status": "completed"
    },
    "tags": []
   },
   "outputs": [],
   "source": [
    "def HFRIBlock(x):\n",
    "    \"\"\"\n",
    "    High Frequency Representation of Image\n",
    "    \"\"\"\n",
    "    freq_represnetation = torch.fft.fft2(x, dim=(-2, -1))\n",
    "    freq_represnetation[..., :x.shape[-2] // 4, :] = 0\n",
    "    freq_represnetation[..., :, :x.shape[-1] // 4] = 0\n",
    "    processed_image = torch.fft.ifft2(freq_represnetation, dim=(-2, -1)).real\n",
    "    return processed_image\n",
    "\n",
    "\n",
    "class ConvLayer(nn.Module):\n",
    "    def __init__(self, in_channels, out_channels, kernel_size=3, padding=1, stride=1):\n",
    "        super(ConvLayer, self).__init__()\n",
    "        self.conv = nn.Sequential(\n",
    "            nn.Conv2d(in_channels, out_channels, kernel_size=kernel_size, padding=padding, stride=stride, bias=False),\n",
    "            nn.BatchNorm2d(out_channels),\n",
    "            nn.ReLU(inplace=True)\n",
    "        )\n",
    "\n",
    "\n",
    "    def forward(self, x):\n",
    "        return self.conv(x)\n",
    "\n",
    "\n",
    "class HFRFSBlock(nn.Module):\n",
    "    \"\"\"\n",
    "    High Frequency Representation of features across spatial\n",
    "    \"\"\"\n",
    "    def __init__(self, in_channels, out_channels):\n",
    "        super(HFRFSBlock, self).__init__()\n",
    "        self.conv = ConvLayer(in_channels, out_channels)\n",
    "\n",
    "    def forward(self, x):\n",
    "        spatial_freq = torch.fft.fft2(x, dim=(-2, -1))\n",
    "        spatial_freq[..., :x.shape[-2] // 4, :] = 0\n",
    "        spatial_freq[..., :, :x.shape[-1] // 4] = 0\n",
    "        spatial_processed = torch.fft.ifft2(spatial_freq, dim=(-2, -1)).real\n",
    "\n",
    "        return self.conv(spatial_processed)\n",
    "\n",
    "\n",
    "class HFRFCBlock(nn.Module):\n",
    "    def __init__(self, in_channels, out_channels):\n",
    "        super(HFRFCBlock, self).__init__()\n",
    "        self.conv = ConvLayer(in_channels, out_channels)\n",
    "\n",
    "    def forward(self, x):\n",
    "        channel_freq = torch.fft.fft(x, dim=1)\n",
    "        channel_freq[:, :x.shape[1] // 4, :, :] = 0\n",
    "        channel_processed = torch.fft.ifft(channel_freq, dim=1).real\n",
    "\n",
    "        return self.conv(channel_processed)\n",
    "\n",
    "\n",
    "class FCLBlock(nn.Module):\n",
    "    \"\"\"\n",
    "    Frequency Convolution Layer\n",
    "    \"\"\"\n",
    "    def __init__(self, in_channels, out_channels):\n",
    "        super(FCLBlock, self).__init__()\n",
    "        self.residual_conv_start = ConvLayer(in_channels, out_channels)\n",
    "        self.phase_conv = ConvLayer(out_channels, out_channels)\n",
    "        self.amplitude_conv = ConvLayer(out_channels, out_channels)\n",
    "        self.residual_conv_final = ConvLayer(out_channels, out_channels)\n",
    "\n",
    "    def forward(self, x):\n",
    "        x = self.residual_conv_start(x)\n",
    "        freq_represnetation = torch.fft.fft2(x, dim=(-2, -1))\n",
    "        amplitude = freq_represnetation.abs()\n",
    "        phase = torch.angle(freq_represnetation)\n",
    "\n",
    "        amp_processed = self.amplitude_conv(amplitude)\n",
    "        phase_processed = self.phase_conv(phase)\n",
    "\n",
    "        combined_freq = torch.polar(amp_processed, phase_processed)\n",
    "\n",
    "        processed = torch.fft.ifft2(combined_freq, dim=(-2, -1)).real\n",
    "\n",
    "        return self.residual_conv_final(processed)\n",
    "\n",
    "class FreqNet(nn.Module):\n",
    "    def __init__(self):\n",
    "        super(FreqNet, self).__init__()\n",
    "        # self.block1 = nn.Sequential(\n",
    "        #     HFRFCBlock(3, 3),\n",
    "        #     FCLBlock(3, 32)\n",
    "        # )\n",
    "        # self.block2 = nn.Sequential(\n",
    "        #     HFRFSBlock(32, 32),\n",
    "        #     HFRFCBlock(32, 32),\n",
    "        #     FCLBlock(32, 64),\n",
    "        #     ConvLayer(64, 64)\n",
    "        # )\n",
    "        self.block3 = nn.Sequential(\n",
    "            HFRFSBlock(3, 3),\n",
    "            FCLBlock(3, 64),\n",
    "            HFRFSBlock(64, 64),\n",
    "            FCLBlock(64, 128),\n",
    "            ConvLayer(128, 128, stride=2)\n",
    "        )\n",
    "        self.final_conv = ConvLayer(128, 256, stride=2)\n",
    "        # self.avgpool = nn.AdaptiveAvgPool2d((1, 1))\n",
    "        # self.fc = nn.Linear(in_features=128, out_features=1, bias=True)\n",
    "\n",
    "    def forward(self, x):\n",
    "        hfri_out = HFRIBlock(x)\n",
    "        # out = self.block3(self.block2(self.block1(hfri_out)))\n",
    "        out = self.final_conv(self.block3(hfri_out))\n",
    "        # pool = self.avgpool(out)\n",
    "        # return self.fc(pool.reshape(x.shape[0], -1))\n",
    "        return out"
   ]
  },
  {
   "cell_type": "code",
   "execution_count": 11,
   "id": "84557f1f",
   "metadata": {
    "execution": {
     "iopub.execute_input": "2024-12-05T19:25:44.668689Z",
     "iopub.status.busy": "2024-12-05T19:25:44.668136Z",
     "iopub.status.idle": "2024-12-05T19:25:45.321488Z",
     "shell.execute_reply": "2024-12-05T19:25:45.320561Z"
    },
    "papermill": {
     "duration": 0.660921,
     "end_time": "2024-12-05T19:25:45.323583",
     "exception": false,
     "start_time": "2024-12-05T19:25:44.662662",
     "status": "completed"
    },
    "tags": []
   },
   "outputs": [],
   "source": [
    "from pytorch_wavelets import DWT2D\n",
    "\n",
    "class DWTLayer(nn.Module):\n",
    "    def __init__(self, wavelet_):\n",
    "        super(DWTLayer, self).__init__()\n",
    "        self.dwt = DWT2D(J=1, wave=wavelet_)\n",
    "\n",
    "    def forward(self, x):\n",
    "        num_channels = x.shape[1]\n",
    "        ll_lis, lh_lis, hl_lis = [], [], []\n",
    "        for i in range(num_channels):\n",
    "            channel = x[:, i, :, :].unsqueeze(1)\n",
    "            low, high = self.dwt(channel)\n",
    "            lh, hl, hh = torch.unbind(high[0], dim=2)\n",
    "            ll_lis.append(low)\n",
    "            lh_lis.append(lh)\n",
    "            hl_lis.append(hl)\n",
    "\n",
    "        ll = torch.stack(ll_lis, dim=1).squeeze(dim=2)\n",
    "        hl = torch.stack(hl_lis, dim=1).squeeze(dim=2)\n",
    "        lh = torch.stack(lh_lis, dim=1).squeeze(dim=2)\n",
    "\n",
    "        return ll, lh, hl\n",
    "\n",
    "\n",
    "class WaveletAttentionBlock(nn.Module):\n",
    "    def __init__(self, wavelet='haar'):\n",
    "        super(WaveletAttentionBlock, self).__init__()\n",
    "        self.dwt = DWTLayer(wavelet)\n",
    "        self.softmax = nn.Softmax(dim=1)\n",
    "    def forward(self, x):\n",
    "        ll, lh, hl = self.dwt(x)\n",
    "        out = (ll * self.softmax(lh + hl)) + ll\n",
    "        return out\n",
    "\n",
    "class WaveletAttentionStride(nn.Module):\n",
    "    def __init__(self, in_features, out_features, wavelet='haar'):\n",
    "        super(WaveletAttentionStride, self).__init__()\n",
    "        self.att_block = WaveletAttentionBlock(wavelet)\n",
    "        self.conv = nn.Conv2d(in_features, out_features, kernel_size=1, stride=1)\n",
    "\n",
    "    def forward(self, x):\n",
    "        out = self.att_block(x)\n",
    "        return self.conv(out)"
   ]
  },
  {
   "cell_type": "code",
   "execution_count": 12,
   "id": "d4a5e5f0",
   "metadata": {
    "execution": {
     "iopub.execute_input": "2024-12-05T19:25:45.334821Z",
     "iopub.status.busy": "2024-12-05T19:25:45.334313Z",
     "iopub.status.idle": "2024-12-05T19:25:45.347436Z",
     "shell.execute_reply": "2024-12-05T19:25:45.346757Z"
    },
    "papermill": {
     "duration": 0.020415,
     "end_time": "2024-12-05T19:25:45.348944",
     "exception": false,
     "start_time": "2024-12-05T19:25:45.328529",
     "status": "completed"
    },
    "tags": []
   },
   "outputs": [],
   "source": [
    "class Block(nn.Module):\n",
    "    def __init__(self, in_channels, out_channels, identity_downsample=None, stride=1):\n",
    "        super(Block, self).__init__()\n",
    "\n",
    "        self.expansion = 4\n",
    "        self.conv1 = nn.Conv2d(in_channels, out_channels, kernel_size=1, stride=1, padding=0)\n",
    "        self.bn1 = nn.BatchNorm2d(out_channels)\n",
    "        self.conv2 = nn.Conv2d(out_channels, out_channels, kernel_size=3, stride=stride, padding=1)\n",
    "        self.bn2 = nn.BatchNorm2d(out_channels)\n",
    "        self.conv3 = nn.Conv2d(out_channels, out_channels*self.expansion, kernel_size=1, stride=1, padding=0)\n",
    "        self.bn3 = nn.BatchNorm2d(out_channels*self.expansion)\n",
    "        self.relu = nn.ReLU()\n",
    "        self.identity_downsample = identity_downsample\n",
    "\n",
    "    def forward(self, x):\n",
    "        identity = x\n",
    "        x = self.relu(self.bn1(self.conv1(x)))\n",
    "        x = self.relu(self.bn2(self.conv2(x)))\n",
    "        x = self.bn3(self.conv3(x))\n",
    "\n",
    "        if self.identity_downsample is not None:\n",
    "            identity = self.identity_downsample(identity)\n",
    "\n",
    "        x += identity\n",
    "        x = self.relu(x)\n",
    "        return x\n",
    "\n",
    "\n",
    "class ResNet(nn.Module):\n",
    "    def __init__(self, block, layers, image_channels, num_classes):\n",
    "        super(ResNet, self).__init__()\n",
    "        self.in_channels = 64\n",
    "        self.conv1 = nn.Conv2d(image_channels, 64, kernel_size=7, stride=2, padding=3)\n",
    "        self.bn1 = nn.BatchNorm2d(64)\n",
    "        self.relu = nn.ReLU()\n",
    "        # self.maxpool = nn.MaxPool2d(kernel_size=3, stride=2, padding=1)\n",
    "        self.wave_attn_pool = WaveletAttentionStride(64, 64)\n",
    "        self.layer1 = self._make_layer(\n",
    "            block, layers[0], out_channels=64, stride=1\n",
    "        )\n",
    "        self.layer2 = self._make_layer(\n",
    "            block, layers[1], out_channels=128, stride=2\n",
    "        )\n",
    "        self.layer2_wave = WaveletAttentionStride(256, 512)\n",
    "        self.layer3 = self._make_layer(\n",
    "            block, layers[2], out_channels=256, stride=2\n",
    "        )\n",
    "        self.layer4 = self._make_layer(\n",
    "            block, layers[3], out_channels=512, stride=2\n",
    "        )\n",
    "        self.freqnet = FreqNet()\n",
    "\n",
    "        self.avgpool = nn.AdaptiveAvgPool2d((1, 1))\n",
    "        self.fc = nn.Linear(512*4, num_classes)\n",
    "\n",
    "    def forward(self, x):\n",
    "        freq_x = self.freqnet(x)\n",
    "        x = self.conv1(x)\n",
    "        x = self.bn1(x)\n",
    "        x = self.relu(x)\n",
    "        # x = self.maxpool(x)\n",
    "        x = self.wave_attn_pool(x)\n",
    "        x = self.layer1(x) + freq_x\n",
    "        x = self.layer2(x) + self.layer2_wave(x)\n",
    "        x = self.layer3(x)\n",
    "        x = self.layer4(x)\n",
    "        x = self.avgpool(x)\n",
    "        x = x.reshape(x.shape[0], -1)\n",
    "        x = self.fc(x)\n",
    "\n",
    "        return x\n",
    "\n",
    "    def _make_layer(self, block, num_residual_blocks, out_channels, stride):\n",
    "        identity_downsample = None\n",
    "        layers = []\n",
    "        if stride != 1 or self.in_channels != out_channels*4:\n",
    "            identity_downsample = nn.Sequential(\n",
    "                nn.Conv2d(self.in_channels, out_channels*4, kernel_size=1, stride=stride),\n",
    "                nn.BatchNorm2d(out_channels*4)\n",
    "            )\n",
    "        layers.append(Block(self.in_channels, out_channels, identity_downsample, stride))\n",
    "        self.in_channels = out_channels*4\n",
    "\n",
    "        for i in range(num_residual_blocks -1):\n",
    "            layers.append(block(self.in_channels, out_channels))\n",
    "\n",
    "        return nn.Sequential(*layers)\n",
    "\n",
    "\n",
    "def ResNet50(img_channels=3, num_classes=1):\n",
    "    return ResNet(Block, [3, 4, 6, 3], image_channels=img_channels, num_classes=num_classes)"
   ]
  },
  {
   "cell_type": "code",
   "execution_count": 13,
   "id": "32eb3230",
   "metadata": {
    "execution": {
     "iopub.execute_input": "2024-12-05T19:25:45.359894Z",
     "iopub.status.busy": "2024-12-05T19:25:45.359651Z",
     "iopub.status.idle": "2024-12-05T19:25:45.363995Z",
     "shell.execute_reply": "2024-12-05T19:25:45.363172Z"
    },
    "papermill": {
     "duration": 0.011401,
     "end_time": "2024-12-05T19:25:45.365491",
     "exception": false,
     "start_time": "2024-12-05T19:25:45.354090",
     "status": "completed"
    },
    "tags": []
   },
   "outputs": [],
   "source": [
    "def save_checkpoint(state, filename=\"my_checkpoint.pth.tar\"):\n",
    "    print(\"=> Saving Checkpoint\")\n",
    "    torch.save(state, filename)\n",
    "\n",
    "def load_checkpoint(checkpoint, model):\n",
    "    print(\"==> Loading Checkpoint\")\n",
    "    model.load_state_dict(checkpoint[\"state_dict\"])"
   ]
  },
  {
   "cell_type": "code",
   "execution_count": 14,
   "id": "a12551e9",
   "metadata": {
    "execution": {
     "iopub.execute_input": "2024-12-05T19:25:45.376138Z",
     "iopub.status.busy": "2024-12-05T19:25:45.375890Z",
     "iopub.status.idle": "2024-12-05T19:25:45.386051Z",
     "shell.execute_reply": "2024-12-05T19:25:45.385262Z"
    },
    "papermill": {
     "duration": 0.017354,
     "end_time": "2024-12-05T19:25:45.387594",
     "exception": false,
     "start_time": "2024-12-05T19:25:45.370240",
     "status": "completed"
    },
    "tags": []
   },
   "outputs": [],
   "source": [
    "def train_step(model,\n",
    "               loader,\n",
    "               loss_fn,\n",
    "               optimizer,\n",
    "               device=DEVICE,\n",
    "               ):\n",
    "\n",
    "    model.train()\n",
    "    train_loss, train_acc = 0, 0\n",
    "    loop = tqdm(loader)\n",
    "    for batch, (X, y) in enumerate(loop):\n",
    "        X, y = X.to(device), y.to(device)\n",
    "        model = model.to(device)\n",
    "        y_pred = model(X)\n",
    "        loss = loss_fn(y_pred, y)\n",
    "        train_loss += loss.item()\n",
    "        optimizer.zero_grad()\n",
    "        loss.backward()\n",
    "        optimizer.step()\n",
    "        y_pred_class = torch.round(torch.sigmoid(y_pred))\n",
    "        train_acc += (y_pred_class == y).sum().item() / len(y_pred)\n",
    "        loop.set_postfix(loss=loss.item())\n",
    "\n",
    "    train_loss = train_loss / len(loader)\n",
    "    train_acc = train_acc / len(loader)\n",
    "\n",
    "    return train_loss, train_acc\n",
    "\n",
    "\n",
    "def test_step(model,\n",
    "              loader,\n",
    "              loss_fn,\n",
    "              device=DEVICE):\n",
    "    model.eval()\n",
    "    test_loss, test_acc = 0, 0\n",
    "    with torch.inference_mode():\n",
    "        for batch, (X, y) in enumerate(loader):\n",
    "            X, y = X.to(device), y.to(device)\n",
    "            model.to(device)\n",
    "            test_pred = model(X)\n",
    "            loss = loss_fn(test_pred, y)\n",
    "            test_loss += loss.item()\n",
    "            test_pred_class = torch.round(torch.sigmoid(test_pred))\n",
    "            test_acc += (test_pred_class == y).sum().item() / len(test_pred)\n",
    "\n",
    "    test_loss = test_loss / len(loader)\n",
    "    test_acc = test_acc / len(loader)\n",
    "\n",
    "    return test_loss, test_acc\n",
    "\n",
    "\n",
    "def train(model: torch.nn.Module,\n",
    "          train_dataloader_: torch.utils.data.DataLoader,\n",
    "          test_dataloader_: torch.utils.data.DataLoader,\n",
    "          optimizer: torch.optim.Optimizer,\n",
    "          loss_fn: torch.nn.Module,\n",
    "          epochs: int = NUM_EPOCHS,\n",
    "          device=DEVICE,\n",
    "          patience=5):\n",
    "\n",
    "    results = {\"train_loss\": [],\n",
    "               \"train_acc\": [],\n",
    "               \"test_loss\": [],\n",
    "               \"test_acc\": []}\n",
    "    scheduler = ReduceLROnPlateau(optimizer, patience=patience)\n",
    "    for epoch in range(epochs):\n",
    "        train_loss, train_acc = train_step(model=model,\n",
    "                                           loader=train_dataloader_,\n",
    "                                           loss_fn=loss_fn,\n",
    "                                           optimizer=optimizer,\n",
    "                                           device=device)\n",
    "\n",
    "        test_loss, test_acc = test_step(model=model,\n",
    "                                        loader=test_dataloader_,\n",
    "                                        loss_fn=loss_fn,\n",
    "                                        device=device)\n",
    "        scheduler.step(test_loss)\n",
    "\n",
    "        print(f\"Epoch: {epoch+1} | Train loss: {train_loss:.4f} | Train acc: {train_acc:.4f} | Test loss: {test_loss:.4f} | Test acc: {test_acc:.4f}\")\n",
    "\n",
    "        results[\"train_loss\"].append(train_loss)\n",
    "        results[\"train_acc\"].append(train_acc)\n",
    "        results[\"test_loss\"].append(test_loss)\n",
    "        results[\"test_acc\"].append(test_acc)\n",
    "\n",
    "    return results"
   ]
  },
  {
   "cell_type": "code",
   "execution_count": 15,
   "id": "865e4aa4",
   "metadata": {
    "collapsed": true,
    "execution": {
     "iopub.execute_input": "2024-12-05T19:25:45.397417Z",
     "iopub.status.busy": "2024-12-05T19:25:45.397160Z",
     "iopub.status.idle": "2024-12-05T19:25:45.681705Z",
     "shell.execute_reply": "2024-12-05T19:25:45.680830Z"
    },
    "jupyter": {
     "outputs_hidden": true
    },
    "papermill": {
     "duration": 0.291822,
     "end_time": "2024-12-05T19:25:45.683866",
     "exception": false,
     "start_time": "2024-12-05T19:25:45.392044",
     "status": "completed"
    },
    "tags": []
   },
   "outputs": [
    {
     "name": "stdout",
     "output_type": "stream",
     "text": [
      "24782552\n",
      "ResNet(\n",
      "  (conv1): Conv2d(3, 64, kernel_size=(7, 7), stride=(2, 2), padding=(3, 3))\n",
      "  (bn1): BatchNorm2d(64, eps=1e-05, momentum=0.1, affine=True, track_running_stats=True)\n",
      "  (relu): ReLU()\n",
      "  (wave_attn_pool): WaveletAttentionStride(\n",
      "    (att_block): WaveletAttentionBlock(\n",
      "      (dwt): DWTLayer(\n",
      "        (dwt): DWTForward()\n",
      "      )\n",
      "      (softmax): Softmax(dim=1)\n",
      "    )\n",
      "    (conv): Conv2d(64, 64, kernel_size=(1, 1), stride=(1, 1))\n",
      "  )\n",
      "  (layer1): Sequential(\n",
      "    (0): Block(\n",
      "      (conv1): Conv2d(64, 64, kernel_size=(1, 1), stride=(1, 1))\n",
      "      (bn1): BatchNorm2d(64, eps=1e-05, momentum=0.1, affine=True, track_running_stats=True)\n",
      "      (conv2): Conv2d(64, 64, kernel_size=(3, 3), stride=(1, 1), padding=(1, 1))\n",
      "      (bn2): BatchNorm2d(64, eps=1e-05, momentum=0.1, affine=True, track_running_stats=True)\n",
      "      (conv3): Conv2d(64, 256, kernel_size=(1, 1), stride=(1, 1))\n",
      "      (bn3): BatchNorm2d(256, eps=1e-05, momentum=0.1, affine=True, track_running_stats=True)\n",
      "      (relu): ReLU()\n",
      "      (identity_downsample): Sequential(\n",
      "        (0): Conv2d(64, 256, kernel_size=(1, 1), stride=(1, 1))\n",
      "        (1): BatchNorm2d(256, eps=1e-05, momentum=0.1, affine=True, track_running_stats=True)\n",
      "      )\n",
      "    )\n",
      "    (1): Block(\n",
      "      (conv1): Conv2d(256, 64, kernel_size=(1, 1), stride=(1, 1))\n",
      "      (bn1): BatchNorm2d(64, eps=1e-05, momentum=0.1, affine=True, track_running_stats=True)\n",
      "      (conv2): Conv2d(64, 64, kernel_size=(3, 3), stride=(1, 1), padding=(1, 1))\n",
      "      (bn2): BatchNorm2d(64, eps=1e-05, momentum=0.1, affine=True, track_running_stats=True)\n",
      "      (conv3): Conv2d(64, 256, kernel_size=(1, 1), stride=(1, 1))\n",
      "      (bn3): BatchNorm2d(256, eps=1e-05, momentum=0.1, affine=True, track_running_stats=True)\n",
      "      (relu): ReLU()\n",
      "    )\n",
      "    (2): Block(\n",
      "      (conv1): Conv2d(256, 64, kernel_size=(1, 1), stride=(1, 1))\n",
      "      (bn1): BatchNorm2d(64, eps=1e-05, momentum=0.1, affine=True, track_running_stats=True)\n",
      "      (conv2): Conv2d(64, 64, kernel_size=(3, 3), stride=(1, 1), padding=(1, 1))\n",
      "      (bn2): BatchNorm2d(64, eps=1e-05, momentum=0.1, affine=True, track_running_stats=True)\n",
      "      (conv3): Conv2d(64, 256, kernel_size=(1, 1), stride=(1, 1))\n",
      "      (bn3): BatchNorm2d(256, eps=1e-05, momentum=0.1, affine=True, track_running_stats=True)\n",
      "      (relu): ReLU()\n",
      "    )\n",
      "  )\n",
      "  (layer2): Sequential(\n",
      "    (0): Block(\n",
      "      (conv1): Conv2d(256, 128, kernel_size=(1, 1), stride=(1, 1))\n",
      "      (bn1): BatchNorm2d(128, eps=1e-05, momentum=0.1, affine=True, track_running_stats=True)\n",
      "      (conv2): Conv2d(128, 128, kernel_size=(3, 3), stride=(2, 2), padding=(1, 1))\n",
      "      (bn2): BatchNorm2d(128, eps=1e-05, momentum=0.1, affine=True, track_running_stats=True)\n",
      "      (conv3): Conv2d(128, 512, kernel_size=(1, 1), stride=(1, 1))\n",
      "      (bn3): BatchNorm2d(512, eps=1e-05, momentum=0.1, affine=True, track_running_stats=True)\n",
      "      (relu): ReLU()\n",
      "      (identity_downsample): Sequential(\n",
      "        (0): Conv2d(256, 512, kernel_size=(1, 1), stride=(2, 2))\n",
      "        (1): BatchNorm2d(512, eps=1e-05, momentum=0.1, affine=True, track_running_stats=True)\n",
      "      )\n",
      "    )\n",
      "    (1): Block(\n",
      "      (conv1): Conv2d(512, 128, kernel_size=(1, 1), stride=(1, 1))\n",
      "      (bn1): BatchNorm2d(128, eps=1e-05, momentum=0.1, affine=True, track_running_stats=True)\n",
      "      (conv2): Conv2d(128, 128, kernel_size=(3, 3), stride=(1, 1), padding=(1, 1))\n",
      "      (bn2): BatchNorm2d(128, eps=1e-05, momentum=0.1, affine=True, track_running_stats=True)\n",
      "      (conv3): Conv2d(128, 512, kernel_size=(1, 1), stride=(1, 1))\n",
      "      (bn3): BatchNorm2d(512, eps=1e-05, momentum=0.1, affine=True, track_running_stats=True)\n",
      "      (relu): ReLU()\n",
      "    )\n",
      "    (2): Block(\n",
      "      (conv1): Conv2d(512, 128, kernel_size=(1, 1), stride=(1, 1))\n",
      "      (bn1): BatchNorm2d(128, eps=1e-05, momentum=0.1, affine=True, track_running_stats=True)\n",
      "      (conv2): Conv2d(128, 128, kernel_size=(3, 3), stride=(1, 1), padding=(1, 1))\n",
      "      (bn2): BatchNorm2d(128, eps=1e-05, momentum=0.1, affine=True, track_running_stats=True)\n",
      "      (conv3): Conv2d(128, 512, kernel_size=(1, 1), stride=(1, 1))\n",
      "      (bn3): BatchNorm2d(512, eps=1e-05, momentum=0.1, affine=True, track_running_stats=True)\n",
      "      (relu): ReLU()\n",
      "    )\n",
      "    (3): Block(\n",
      "      (conv1): Conv2d(512, 128, kernel_size=(1, 1), stride=(1, 1))\n",
      "      (bn1): BatchNorm2d(128, eps=1e-05, momentum=0.1, affine=True, track_running_stats=True)\n",
      "      (conv2): Conv2d(128, 128, kernel_size=(3, 3), stride=(1, 1), padding=(1, 1))\n",
      "      (bn2): BatchNorm2d(128, eps=1e-05, momentum=0.1, affine=True, track_running_stats=True)\n",
      "      (conv3): Conv2d(128, 512, kernel_size=(1, 1), stride=(1, 1))\n",
      "      (bn3): BatchNorm2d(512, eps=1e-05, momentum=0.1, affine=True, track_running_stats=True)\n",
      "      (relu): ReLU()\n",
      "    )\n",
      "  )\n",
      "  (layer2_wave): WaveletAttentionStride(\n",
      "    (att_block): WaveletAttentionBlock(\n",
      "      (dwt): DWTLayer(\n",
      "        (dwt): DWTForward()\n",
      "      )\n",
      "      (softmax): Softmax(dim=1)\n",
      "    )\n",
      "    (conv): Conv2d(256, 512, kernel_size=(1, 1), stride=(1, 1))\n",
      "  )\n",
      "  (layer3): Sequential(\n",
      "    (0): Block(\n",
      "      (conv1): Conv2d(512, 256, kernel_size=(1, 1), stride=(1, 1))\n",
      "      (bn1): BatchNorm2d(256, eps=1e-05, momentum=0.1, affine=True, track_running_stats=True)\n",
      "      (conv2): Conv2d(256, 256, kernel_size=(3, 3), stride=(2, 2), padding=(1, 1))\n",
      "      (bn2): BatchNorm2d(256, eps=1e-05, momentum=0.1, affine=True, track_running_stats=True)\n",
      "      (conv3): Conv2d(256, 1024, kernel_size=(1, 1), stride=(1, 1))\n",
      "      (bn3): BatchNorm2d(1024, eps=1e-05, momentum=0.1, affine=True, track_running_stats=True)\n",
      "      (relu): ReLU()\n",
      "      (identity_downsample): Sequential(\n",
      "        (0): Conv2d(512, 1024, kernel_size=(1, 1), stride=(2, 2))\n",
      "        (1): BatchNorm2d(1024, eps=1e-05, momentum=0.1, affine=True, track_running_stats=True)\n",
      "      )\n",
      "    )\n",
      "    (1): Block(\n",
      "      (conv1): Conv2d(1024, 256, kernel_size=(1, 1), stride=(1, 1))\n",
      "      (bn1): BatchNorm2d(256, eps=1e-05, momentum=0.1, affine=True, track_running_stats=True)\n",
      "      (conv2): Conv2d(256, 256, kernel_size=(3, 3), stride=(1, 1), padding=(1, 1))\n",
      "      (bn2): BatchNorm2d(256, eps=1e-05, momentum=0.1, affine=True, track_running_stats=True)\n",
      "      (conv3): Conv2d(256, 1024, kernel_size=(1, 1), stride=(1, 1))\n",
      "      (bn3): BatchNorm2d(1024, eps=1e-05, momentum=0.1, affine=True, track_running_stats=True)\n",
      "      (relu): ReLU()\n",
      "    )\n",
      "    (2): Block(\n",
      "      (conv1): Conv2d(1024, 256, kernel_size=(1, 1), stride=(1, 1))\n",
      "      (bn1): BatchNorm2d(256, eps=1e-05, momentum=0.1, affine=True, track_running_stats=True)\n",
      "      (conv2): Conv2d(256, 256, kernel_size=(3, 3), stride=(1, 1), padding=(1, 1))\n",
      "      (bn2): BatchNorm2d(256, eps=1e-05, momentum=0.1, affine=True, track_running_stats=True)\n",
      "      (conv3): Conv2d(256, 1024, kernel_size=(1, 1), stride=(1, 1))\n",
      "      (bn3): BatchNorm2d(1024, eps=1e-05, momentum=0.1, affine=True, track_running_stats=True)\n",
      "      (relu): ReLU()\n",
      "    )\n",
      "    (3): Block(\n",
      "      (conv1): Conv2d(1024, 256, kernel_size=(1, 1), stride=(1, 1))\n",
      "      (bn1): BatchNorm2d(256, eps=1e-05, momentum=0.1, affine=True, track_running_stats=True)\n",
      "      (conv2): Conv2d(256, 256, kernel_size=(3, 3), stride=(1, 1), padding=(1, 1))\n",
      "      (bn2): BatchNorm2d(256, eps=1e-05, momentum=0.1, affine=True, track_running_stats=True)\n",
      "      (conv3): Conv2d(256, 1024, kernel_size=(1, 1), stride=(1, 1))\n",
      "      (bn3): BatchNorm2d(1024, eps=1e-05, momentum=0.1, affine=True, track_running_stats=True)\n",
      "      (relu): ReLU()\n",
      "    )\n",
      "    (4): Block(\n",
      "      (conv1): Conv2d(1024, 256, kernel_size=(1, 1), stride=(1, 1))\n",
      "      (bn1): BatchNorm2d(256, eps=1e-05, momentum=0.1, affine=True, track_running_stats=True)\n",
      "      (conv2): Conv2d(256, 256, kernel_size=(3, 3), stride=(1, 1), padding=(1, 1))\n",
      "      (bn2): BatchNorm2d(256, eps=1e-05, momentum=0.1, affine=True, track_running_stats=True)\n",
      "      (conv3): Conv2d(256, 1024, kernel_size=(1, 1), stride=(1, 1))\n",
      "      (bn3): BatchNorm2d(1024, eps=1e-05, momentum=0.1, affine=True, track_running_stats=True)\n",
      "      (relu): ReLU()\n",
      "    )\n",
      "    (5): Block(\n",
      "      (conv1): Conv2d(1024, 256, kernel_size=(1, 1), stride=(1, 1))\n",
      "      (bn1): BatchNorm2d(256, eps=1e-05, momentum=0.1, affine=True, track_running_stats=True)\n",
      "      (conv2): Conv2d(256, 256, kernel_size=(3, 3), stride=(1, 1), padding=(1, 1))\n",
      "      (bn2): BatchNorm2d(256, eps=1e-05, momentum=0.1, affine=True, track_running_stats=True)\n",
      "      (conv3): Conv2d(256, 1024, kernel_size=(1, 1), stride=(1, 1))\n",
      "      (bn3): BatchNorm2d(1024, eps=1e-05, momentum=0.1, affine=True, track_running_stats=True)\n",
      "      (relu): ReLU()\n",
      "    )\n",
      "  )\n",
      "  (layer4): Sequential(\n",
      "    (0): Block(\n",
      "      (conv1): Conv2d(1024, 512, kernel_size=(1, 1), stride=(1, 1))\n",
      "      (bn1): BatchNorm2d(512, eps=1e-05, momentum=0.1, affine=True, track_running_stats=True)\n",
      "      (conv2): Conv2d(512, 512, kernel_size=(3, 3), stride=(2, 2), padding=(1, 1))\n",
      "      (bn2): BatchNorm2d(512, eps=1e-05, momentum=0.1, affine=True, track_running_stats=True)\n",
      "      (conv3): Conv2d(512, 2048, kernel_size=(1, 1), stride=(1, 1))\n",
      "      (bn3): BatchNorm2d(2048, eps=1e-05, momentum=0.1, affine=True, track_running_stats=True)\n",
      "      (relu): ReLU()\n",
      "      (identity_downsample): Sequential(\n",
      "        (0): Conv2d(1024, 2048, kernel_size=(1, 1), stride=(2, 2))\n",
      "        (1): BatchNorm2d(2048, eps=1e-05, momentum=0.1, affine=True, track_running_stats=True)\n",
      "      )\n",
      "    )\n",
      "    (1): Block(\n",
      "      (conv1): Conv2d(2048, 512, kernel_size=(1, 1), stride=(1, 1))\n",
      "      (bn1): BatchNorm2d(512, eps=1e-05, momentum=0.1, affine=True, track_running_stats=True)\n",
      "      (conv2): Conv2d(512, 512, kernel_size=(3, 3), stride=(1, 1), padding=(1, 1))\n",
      "      (bn2): BatchNorm2d(512, eps=1e-05, momentum=0.1, affine=True, track_running_stats=True)\n",
      "      (conv3): Conv2d(512, 2048, kernel_size=(1, 1), stride=(1, 1))\n",
      "      (bn3): BatchNorm2d(2048, eps=1e-05, momentum=0.1, affine=True, track_running_stats=True)\n",
      "      (relu): ReLU()\n",
      "    )\n",
      "    (2): Block(\n",
      "      (conv1): Conv2d(2048, 512, kernel_size=(1, 1), stride=(1, 1))\n",
      "      (bn1): BatchNorm2d(512, eps=1e-05, momentum=0.1, affine=True, track_running_stats=True)\n",
      "      (conv2): Conv2d(512, 512, kernel_size=(3, 3), stride=(1, 1), padding=(1, 1))\n",
      "      (bn2): BatchNorm2d(512, eps=1e-05, momentum=0.1, affine=True, track_running_stats=True)\n",
      "      (conv3): Conv2d(512, 2048, kernel_size=(1, 1), stride=(1, 1))\n",
      "      (bn3): BatchNorm2d(2048, eps=1e-05, momentum=0.1, affine=True, track_running_stats=True)\n",
      "      (relu): ReLU()\n",
      "    )\n",
      "  )\n",
      "  (freqnet): FreqNet(\n",
      "    (block3): Sequential(\n",
      "      (0): HFRFSBlock(\n",
      "        (conv): ConvLayer(\n",
      "          (conv): Sequential(\n",
      "            (0): Conv2d(3, 3, kernel_size=(3, 3), stride=(1, 1), padding=(1, 1), bias=False)\n",
      "            (1): BatchNorm2d(3, eps=1e-05, momentum=0.1, affine=True, track_running_stats=True)\n",
      "            (2): ReLU(inplace=True)\n",
      "          )\n",
      "        )\n",
      "      )\n",
      "      (1): FCLBlock(\n",
      "        (residual_conv_start): ConvLayer(\n",
      "          (conv): Sequential(\n",
      "            (0): Conv2d(3, 64, kernel_size=(3, 3), stride=(1, 1), padding=(1, 1), bias=False)\n",
      "            (1): BatchNorm2d(64, eps=1e-05, momentum=0.1, affine=True, track_running_stats=True)\n",
      "            (2): ReLU(inplace=True)\n",
      "          )\n",
      "        )\n",
      "        (phase_conv): ConvLayer(\n",
      "          (conv): Sequential(\n",
      "            (0): Conv2d(64, 64, kernel_size=(3, 3), stride=(1, 1), padding=(1, 1), bias=False)\n",
      "            (1): BatchNorm2d(64, eps=1e-05, momentum=0.1, affine=True, track_running_stats=True)\n",
      "            (2): ReLU(inplace=True)\n",
      "          )\n",
      "        )\n",
      "        (amplitude_conv): ConvLayer(\n",
      "          (conv): Sequential(\n",
      "            (0): Conv2d(64, 64, kernel_size=(3, 3), stride=(1, 1), padding=(1, 1), bias=False)\n",
      "            (1): BatchNorm2d(64, eps=1e-05, momentum=0.1, affine=True, track_running_stats=True)\n",
      "            (2): ReLU(inplace=True)\n",
      "          )\n",
      "        )\n",
      "        (residual_conv_final): ConvLayer(\n",
      "          (conv): Sequential(\n",
      "            (0): Conv2d(64, 64, kernel_size=(3, 3), stride=(1, 1), padding=(1, 1), bias=False)\n",
      "            (1): BatchNorm2d(64, eps=1e-05, momentum=0.1, affine=True, track_running_stats=True)\n",
      "            (2): ReLU(inplace=True)\n",
      "          )\n",
      "        )\n",
      "      )\n",
      "      (2): HFRFSBlock(\n",
      "        (conv): ConvLayer(\n",
      "          (conv): Sequential(\n",
      "            (0): Conv2d(64, 64, kernel_size=(3, 3), stride=(1, 1), padding=(1, 1), bias=False)\n",
      "            (1): BatchNorm2d(64, eps=1e-05, momentum=0.1, affine=True, track_running_stats=True)\n",
      "            (2): ReLU(inplace=True)\n",
      "          )\n",
      "        )\n",
      "      )\n",
      "      (3): FCLBlock(\n",
      "        (residual_conv_start): ConvLayer(\n",
      "          (conv): Sequential(\n",
      "            (0): Conv2d(64, 128, kernel_size=(3, 3), stride=(1, 1), padding=(1, 1), bias=False)\n",
      "            (1): BatchNorm2d(128, eps=1e-05, momentum=0.1, affine=True, track_running_stats=True)\n",
      "            (2): ReLU(inplace=True)\n",
      "          )\n",
      "        )\n",
      "        (phase_conv): ConvLayer(\n",
      "          (conv): Sequential(\n",
      "            (0): Conv2d(128, 128, kernel_size=(3, 3), stride=(1, 1), padding=(1, 1), bias=False)\n",
      "            (1): BatchNorm2d(128, eps=1e-05, momentum=0.1, affine=True, track_running_stats=True)\n",
      "            (2): ReLU(inplace=True)\n",
      "          )\n",
      "        )\n",
      "        (amplitude_conv): ConvLayer(\n",
      "          (conv): Sequential(\n",
      "            (0): Conv2d(128, 128, kernel_size=(3, 3), stride=(1, 1), padding=(1, 1), bias=False)\n",
      "            (1): BatchNorm2d(128, eps=1e-05, momentum=0.1, affine=True, track_running_stats=True)\n",
      "            (2): ReLU(inplace=True)\n",
      "          )\n",
      "        )\n",
      "        (residual_conv_final): ConvLayer(\n",
      "          (conv): Sequential(\n",
      "            (0): Conv2d(128, 128, kernel_size=(3, 3), stride=(1, 1), padding=(1, 1), bias=False)\n",
      "            (1): BatchNorm2d(128, eps=1e-05, momentum=0.1, affine=True, track_running_stats=True)\n",
      "            (2): ReLU(inplace=True)\n",
      "          )\n",
      "        )\n",
      "      )\n",
      "      (4): ConvLayer(\n",
      "        (conv): Sequential(\n",
      "          (0): Conv2d(128, 128, kernel_size=(3, 3), stride=(2, 2), padding=(1, 1), bias=False)\n",
      "          (1): BatchNorm2d(128, eps=1e-05, momentum=0.1, affine=True, track_running_stats=True)\n",
      "          (2): ReLU(inplace=True)\n",
      "        )\n",
      "      )\n",
      "    )\n",
      "    (final_conv): ConvLayer(\n",
      "      (conv): Sequential(\n",
      "        (0): Conv2d(128, 256, kernel_size=(3, 3), stride=(2, 2), padding=(1, 1), bias=False)\n",
      "        (1): BatchNorm2d(256, eps=1e-05, momentum=0.1, affine=True, track_running_stats=True)\n",
      "        (2): ReLU(inplace=True)\n",
      "      )\n",
      "    )\n",
      "  )\n",
      "  (avgpool): AdaptiveAvgPool2d(output_size=(1, 1))\n",
      "  (fc): Linear(in_features=2048, out_features=1, bias=True)\n",
      ")\n"
     ]
    }
   ],
   "source": [
    "model = ResNet50()\n",
    "pytorch_total_params = sum(p.numel() for p in model.parameters())\n",
    "print(pytorch_total_params)\n",
    "print(model)"
   ]
  },
  {
   "cell_type": "code",
   "execution_count": 16,
   "id": "20789bf1",
   "metadata": {
    "execution": {
     "iopub.execute_input": "2024-12-05T19:25:45.695003Z",
     "iopub.status.busy": "2024-12-05T19:25:45.694709Z",
     "iopub.status.idle": "2024-12-05T19:25:45.700211Z",
     "shell.execute_reply": "2024-12-05T19:25:45.699471Z"
    },
    "papermill": {
     "duration": 0.012721,
     "end_time": "2024-12-05T19:25:45.701848",
     "exception": false,
     "start_time": "2024-12-05T19:25:45.689127",
     "status": "completed"
    },
    "tags": []
   },
   "outputs": [
    {
     "name": "stdout",
     "output_type": "stream",
     "text": [
      "/kaggle/working\n"
     ]
    }
   ],
   "source": [
    "%cd .."
   ]
  },
  {
   "cell_type": "code",
   "execution_count": 17,
   "id": "ca4877db",
   "metadata": {
    "execution": {
     "iopub.execute_input": "2024-12-05T19:25:45.712550Z",
     "iopub.status.busy": "2024-12-05T19:25:45.712296Z",
     "iopub.status.idle": "2024-12-05T19:25:45.717114Z",
     "shell.execute_reply": "2024-12-05T19:25:45.716447Z"
    },
    "papermill": {
     "duration": 0.011818,
     "end_time": "2024-12-05T19:25:45.718695",
     "exception": false,
     "start_time": "2024-12-05T19:25:45.706877",
     "status": "completed"
    },
    "tags": []
   },
   "outputs": [],
   "source": [
    "def trainer(model):\n",
    "    # model = CustomCNN(0.3, 0.3).to(DEVICE)\n",
    "    model.to(DEVICE)\n",
    "    loss_fn = nn.BCEWithLogitsLoss()\n",
    "    optimizer = torch.optim.Adam(params=model.parameters(),\n",
    "                                 lr=LEARNING_RATE)\n",
    "    start_time = timer()\n",
    "    train(model, train_dataloader, test_dataloader, optimizer, loss_fn, epochs=NUM_EPOCHS, device=DEVICE, patience=5)\n",
    "    end_time = timer()\n",
    "\n",
    "    print(f\"Total Training Time: {end_time-start_time:.3f}\")\n",
    "    checkpoint = {\n",
    "    \"state_dict\": model.state_dict(),\n",
    "    \"optimizer\": optimizer.state_dict()\n",
    "    }\n",
    "    save_checkpoint(checkpoint, filename=\"res50_freq_checkpoint.pth.tar\")"
   ]
  },
  {
   "cell_type": "code",
   "execution_count": 18,
   "id": "3f21a59f",
   "metadata": {
    "execution": {
     "iopub.execute_input": "2024-12-05T19:25:45.729117Z",
     "iopub.status.busy": "2024-12-05T19:25:45.728888Z",
     "iopub.status.idle": "2024-12-06T00:57:55.714130Z",
     "shell.execute_reply": "2024-12-06T00:57:55.713249Z"
    },
    "papermill": {
     "duration": 19929.992835,
     "end_time": "2024-12-06T00:57:55.716287",
     "exception": false,
     "start_time": "2024-12-05T19:25:45.723452",
     "status": "completed"
    },
    "tags": []
   },
   "outputs": [
    {
     "name": "stderr",
     "output_type": "stream",
     "text": [
      "100%|██████████| 157/157 [04:12<00:00,  1.61s/it, loss=0.437]\n"
     ]
    },
    {
     "name": "stdout",
     "output_type": "stream",
     "text": [
      "Epoch: 1 | Train loss: 0.5841 | Train acc: 0.7087 | Test loss: 0.6933 | Test acc: 0.6696\n"
     ]
    },
    {
     "name": "stderr",
     "output_type": "stream",
     "text": [
      "100%|██████████| 157/157 [03:01<00:00,  1.16s/it, loss=0.334]\n"
     ]
    },
    {
     "name": "stdout",
     "output_type": "stream",
     "text": [
      "Epoch: 2 | Train loss: 0.3020 | Train acc: 0.8704 | Test loss: 0.2928 | Test acc: 0.8744\n"
     ]
    },
    {
     "name": "stderr",
     "output_type": "stream",
     "text": [
      "100%|██████████| 157/157 [03:01<00:00,  1.15s/it, loss=0.194]\n"
     ]
    },
    {
     "name": "stdout",
     "output_type": "stream",
     "text": [
      "Epoch: 3 | Train loss: 0.2563 | Train acc: 0.8926 | Test loss: 0.3961 | Test acc: 0.8317\n"
     ]
    },
    {
     "name": "stderr",
     "output_type": "stream",
     "text": [
      "100%|██████████| 157/157 [03:00<00:00,  1.15s/it, loss=0.281]\n"
     ]
    },
    {
     "name": "stdout",
     "output_type": "stream",
     "text": [
      "Epoch: 4 | Train loss: 0.2309 | Train acc: 0.9050 | Test loss: 0.2487 | Test acc: 0.8980\n"
     ]
    },
    {
     "name": "stderr",
     "output_type": "stream",
     "text": [
      "100%|██████████| 157/157 [03:00<00:00,  1.15s/it, loss=0.207]\n"
     ]
    },
    {
     "name": "stdout",
     "output_type": "stream",
     "text": [
      "Epoch: 5 | Train loss: 0.2115 | Train acc: 0.9144 | Test loss: 0.2451 | Test acc: 0.8967\n"
     ]
    },
    {
     "name": "stderr",
     "output_type": "stream",
     "text": [
      "100%|██████████| 157/157 [03:01<00:00,  1.15s/it, loss=0.134]\n"
     ]
    },
    {
     "name": "stdout",
     "output_type": "stream",
     "text": [
      "Epoch: 6 | Train loss: 0.1989 | Train acc: 0.9202 | Test loss: 0.2604 | Test acc: 0.8955\n"
     ]
    },
    {
     "name": "stderr",
     "output_type": "stream",
     "text": [
      "100%|██████████| 157/157 [03:00<00:00,  1.15s/it, loss=0.173]\n"
     ]
    },
    {
     "name": "stdout",
     "output_type": "stream",
     "text": [
      "Epoch: 7 | Train loss: 0.1901 | Train acc: 0.9235 | Test loss: 0.2836 | Test acc: 0.8900\n"
     ]
    },
    {
     "name": "stderr",
     "output_type": "stream",
     "text": [
      "100%|██████████| 157/157 [03:01<00:00,  1.16s/it, loss=0.131]\n"
     ]
    },
    {
     "name": "stdout",
     "output_type": "stream",
     "text": [
      "Epoch: 8 | Train loss: 0.1805 | Train acc: 0.9267 | Test loss: 0.1998 | Test acc: 0.9194\n"
     ]
    },
    {
     "name": "stderr",
     "output_type": "stream",
     "text": [
      "100%|██████████| 157/157 [03:01<00:00,  1.16s/it, loss=0.229]\n"
     ]
    },
    {
     "name": "stdout",
     "output_type": "stream",
     "text": [
      "Epoch: 9 | Train loss: 0.1734 | Train acc: 0.9309 | Test loss: 0.2082 | Test acc: 0.9150\n"
     ]
    },
    {
     "name": "stderr",
     "output_type": "stream",
     "text": [
      "100%|██████████| 157/157 [03:00<00:00,  1.15s/it, loss=0.214]\n"
     ]
    },
    {
     "name": "stdout",
     "output_type": "stream",
     "text": [
      "Epoch: 10 | Train loss: 0.1691 | Train acc: 0.9329 | Test loss: 0.1976 | Test acc: 0.9212\n"
     ]
    },
    {
     "name": "stderr",
     "output_type": "stream",
     "text": [
      "100%|██████████| 157/157 [03:01<00:00,  1.15s/it, loss=0.158]\n"
     ]
    },
    {
     "name": "stdout",
     "output_type": "stream",
     "text": [
      "Epoch: 11 | Train loss: 0.1678 | Train acc: 0.9333 | Test loss: 0.2325 | Test acc: 0.9056\n"
     ]
    },
    {
     "name": "stderr",
     "output_type": "stream",
     "text": [
      "100%|██████████| 157/157 [03:00<00:00,  1.15s/it, loss=0.245]\n"
     ]
    },
    {
     "name": "stdout",
     "output_type": "stream",
     "text": [
      "Epoch: 12 | Train loss: 0.1629 | Train acc: 0.9353 | Test loss: 0.2307 | Test acc: 0.9066\n"
     ]
    },
    {
     "name": "stderr",
     "output_type": "stream",
     "text": [
      "100%|██████████| 157/157 [03:00<00:00,  1.15s/it, loss=0.0951]\n"
     ]
    },
    {
     "name": "stdout",
     "output_type": "stream",
     "text": [
      "Epoch: 13 | Train loss: 0.1585 | Train acc: 0.9361 | Test loss: 0.1810 | Test acc: 0.9282\n"
     ]
    },
    {
     "name": "stderr",
     "output_type": "stream",
     "text": [
      "100%|██████████| 157/157 [03:00<00:00,  1.15s/it, loss=0.23]\n"
     ]
    },
    {
     "name": "stdout",
     "output_type": "stream",
     "text": [
      "Epoch: 14 | Train loss: 0.1516 | Train acc: 0.9405 | Test loss: 0.3120 | Test acc: 0.8766\n"
     ]
    },
    {
     "name": "stderr",
     "output_type": "stream",
     "text": [
      "100%|██████████| 157/157 [02:59<00:00,  1.14s/it, loss=0.184]\n"
     ]
    },
    {
     "name": "stdout",
     "output_type": "stream",
     "text": [
      "Epoch: 15 | Train loss: 0.1513 | Train acc: 0.9408 | Test loss: 1.0144 | Test acc: 0.8145\n"
     ]
    },
    {
     "name": "stderr",
     "output_type": "stream",
     "text": [
      "100%|██████████| 157/157 [02:59<00:00,  1.14s/it, loss=0.204]\n"
     ]
    },
    {
     "name": "stdout",
     "output_type": "stream",
     "text": [
      "Epoch: 16 | Train loss: 0.1503 | Train acc: 0.9404 | Test loss: 0.1972 | Test acc: 0.9217\n"
     ]
    },
    {
     "name": "stderr",
     "output_type": "stream",
     "text": [
      "100%|██████████| 157/157 [03:00<00:00,  1.15s/it, loss=0.129]\n"
     ]
    },
    {
     "name": "stdout",
     "output_type": "stream",
     "text": [
      "Epoch: 17 | Train loss: 0.1452 | Train acc: 0.9428 | Test loss: 0.4812 | Test acc: 0.8799\n"
     ]
    },
    {
     "name": "stderr",
     "output_type": "stream",
     "text": [
      "100%|██████████| 157/157 [02:59<00:00,  1.15s/it, loss=0.198]\n"
     ]
    },
    {
     "name": "stdout",
     "output_type": "stream",
     "text": [
      "Epoch: 18 | Train loss: 0.1448 | Train acc: 0.9430 | Test loss: 0.1705 | Test acc: 0.9339\n"
     ]
    },
    {
     "name": "stderr",
     "output_type": "stream",
     "text": [
      "100%|██████████| 157/157 [03:00<00:00,  1.15s/it, loss=0.127]\n"
     ]
    },
    {
     "name": "stdout",
     "output_type": "stream",
     "text": [
      "Epoch: 19 | Train loss: 0.1413 | Train acc: 0.9449 | Test loss: 0.1507 | Test acc: 0.9392\n"
     ]
    },
    {
     "name": "stderr",
     "output_type": "stream",
     "text": [
      "100%|██████████| 157/157 [02:59<00:00,  1.15s/it, loss=0.0526]\n"
     ]
    },
    {
     "name": "stdout",
     "output_type": "stream",
     "text": [
      "Epoch: 20 | Train loss: 0.1379 | Train acc: 0.9451 | Test loss: 0.1811 | Test acc: 0.9262\n"
     ]
    },
    {
     "name": "stderr",
     "output_type": "stream",
     "text": [
      "100%|██████████| 157/157 [03:00<00:00,  1.15s/it, loss=0.196]\n"
     ]
    },
    {
     "name": "stdout",
     "output_type": "stream",
     "text": [
      "Epoch: 21 | Train loss: 0.1358 | Train acc: 0.9469 | Test loss: 0.1629 | Test acc: 0.9353\n"
     ]
    },
    {
     "name": "stderr",
     "output_type": "stream",
     "text": [
      "100%|██████████| 157/157 [03:00<00:00,  1.15s/it, loss=0.155]\n"
     ]
    },
    {
     "name": "stdout",
     "output_type": "stream",
     "text": [
      "Epoch: 22 | Train loss: 0.1328 | Train acc: 0.9478 | Test loss: 0.1624 | Test acc: 0.9346\n"
     ]
    },
    {
     "name": "stderr",
     "output_type": "stream",
     "text": [
      "100%|██████████| 157/157 [02:59<00:00,  1.15s/it, loss=0.088]\n"
     ]
    },
    {
     "name": "stdout",
     "output_type": "stream",
     "text": [
      "Epoch: 23 | Train loss: 0.1300 | Train acc: 0.9485 | Test loss: 0.1868 | Test acc: 0.9251\n"
     ]
    },
    {
     "name": "stderr",
     "output_type": "stream",
     "text": [
      "100%|██████████| 157/157 [03:01<00:00,  1.15s/it, loss=0.138]\n"
     ]
    },
    {
     "name": "stdout",
     "output_type": "stream",
     "text": [
      "Epoch: 24 | Train loss: 0.1293 | Train acc: 0.9506 | Test loss: 0.2205 | Test acc: 0.9118\n"
     ]
    },
    {
     "name": "stderr",
     "output_type": "stream",
     "text": [
      "100%|██████████| 157/157 [03:01<00:00,  1.16s/it, loss=0.145]\n"
     ]
    },
    {
     "name": "stdout",
     "output_type": "stream",
     "text": [
      "Epoch: 25 | Train loss: 0.1293 | Train acc: 0.9489 | Test loss: 0.2519 | Test acc: 0.9068\n"
     ]
    },
    {
     "name": "stderr",
     "output_type": "stream",
     "text": [
      "100%|██████████| 157/157 [03:00<00:00,  1.15s/it, loss=0.159]\n"
     ]
    },
    {
     "name": "stdout",
     "output_type": "stream",
     "text": [
      "Epoch: 26 | Train loss: 0.1086 | Train acc: 0.9576 | Test loss: 0.1195 | Test acc: 0.9535\n"
     ]
    },
    {
     "name": "stderr",
     "output_type": "stream",
     "text": [
      "100%|██████████| 157/157 [03:00<00:00,  1.15s/it, loss=0.105]\n"
     ]
    },
    {
     "name": "stdout",
     "output_type": "stream",
     "text": [
      "Epoch: 27 | Train loss: 0.0978 | Train acc: 0.9623 | Test loss: 0.1125 | Test acc: 0.9569\n"
     ]
    },
    {
     "name": "stderr",
     "output_type": "stream",
     "text": [
      "100%|██████████| 157/157 [03:00<00:00,  1.15s/it, loss=0.121]\n"
     ]
    },
    {
     "name": "stdout",
     "output_type": "stream",
     "text": [
      "Epoch: 28 | Train loss: 0.0952 | Train acc: 0.9626 | Test loss: 0.1135 | Test acc: 0.9558\n"
     ]
    },
    {
     "name": "stderr",
     "output_type": "stream",
     "text": [
      "100%|██████████| 157/157 [03:00<00:00,  1.15s/it, loss=0.0864]\n"
     ]
    },
    {
     "name": "stdout",
     "output_type": "stream",
     "text": [
      "Epoch: 29 | Train loss: 0.0942 | Train acc: 0.9634 | Test loss: 0.1190 | Test acc: 0.9555\n"
     ]
    },
    {
     "name": "stderr",
     "output_type": "stream",
     "text": [
      "100%|██████████| 157/157 [02:59<00:00,  1.14s/it, loss=0.0431]\n"
     ]
    },
    {
     "name": "stdout",
     "output_type": "stream",
     "text": [
      "Epoch: 30 | Train loss: 0.0905 | Train acc: 0.9653 | Test loss: 0.1214 | Test acc: 0.9533\n"
     ]
    },
    {
     "name": "stderr",
     "output_type": "stream",
     "text": [
      "100%|██████████| 157/157 [02:59<00:00,  1.14s/it, loss=0.0574]\n"
     ]
    },
    {
     "name": "stdout",
     "output_type": "stream",
     "text": [
      "Epoch: 31 | Train loss: 0.0911 | Train acc: 0.9649 | Test loss: 0.1196 | Test acc: 0.9557\n"
     ]
    },
    {
     "name": "stderr",
     "output_type": "stream",
     "text": [
      "100%|██████████| 157/157 [02:59<00:00,  1.14s/it, loss=0.117]\n"
     ]
    },
    {
     "name": "stdout",
     "output_type": "stream",
     "text": [
      "Epoch: 32 | Train loss: 0.0898 | Train acc: 0.9654 | Test loss: 0.1156 | Test acc: 0.9558\n"
     ]
    },
    {
     "name": "stderr",
     "output_type": "stream",
     "text": [
      "100%|██████████| 157/157 [03:00<00:00,  1.15s/it, loss=0.0563]\n"
     ]
    },
    {
     "name": "stdout",
     "output_type": "stream",
     "text": [
      "Epoch: 33 | Train loss: 0.0868 | Train acc: 0.9667 | Test loss: 0.1117 | Test acc: 0.9566\n"
     ]
    },
    {
     "name": "stderr",
     "output_type": "stream",
     "text": [
      "100%|██████████| 157/157 [02:59<00:00,  1.15s/it, loss=0.0912]\n"
     ]
    },
    {
     "name": "stdout",
     "output_type": "stream",
     "text": [
      "Epoch: 34 | Train loss: 0.0867 | Train acc: 0.9668 | Test loss: 0.1335 | Test acc: 0.9499\n"
     ]
    },
    {
     "name": "stderr",
     "output_type": "stream",
     "text": [
      "100%|██████████| 157/157 [03:00<00:00,  1.15s/it, loss=0.0998]\n"
     ]
    },
    {
     "name": "stdout",
     "output_type": "stream",
     "text": [
      "Epoch: 35 | Train loss: 0.0877 | Train acc: 0.9663 | Test loss: 0.1251 | Test acc: 0.9524\n"
     ]
    },
    {
     "name": "stderr",
     "output_type": "stream",
     "text": [
      "100%|██████████| 157/157 [02:59<00:00,  1.14s/it, loss=0.0816]\n"
     ]
    },
    {
     "name": "stdout",
     "output_type": "stream",
     "text": [
      "Epoch: 36 | Train loss: 0.0842 | Train acc: 0.9669 | Test loss: 0.1142 | Test acc: 0.9569\n"
     ]
    },
    {
     "name": "stderr",
     "output_type": "stream",
     "text": [
      "100%|██████████| 157/157 [03:00<00:00,  1.15s/it, loss=0.0948]\n"
     ]
    },
    {
     "name": "stdout",
     "output_type": "stream",
     "text": [
      "Epoch: 37 | Train loss: 0.0850 | Train acc: 0.9670 | Test loss: 0.1129 | Test acc: 0.9579\n"
     ]
    },
    {
     "name": "stderr",
     "output_type": "stream",
     "text": [
      "100%|██████████| 157/157 [03:00<00:00,  1.15s/it, loss=0.0826]\n"
     ]
    },
    {
     "name": "stdout",
     "output_type": "stream",
     "text": [
      "Epoch: 38 | Train loss: 0.0844 | Train acc: 0.9675 | Test loss: 0.1193 | Test acc: 0.9548\n"
     ]
    },
    {
     "name": "stderr",
     "output_type": "stream",
     "text": [
      "100%|██████████| 157/157 [03:00<00:00,  1.15s/it, loss=0.143]\n"
     ]
    },
    {
     "name": "stdout",
     "output_type": "stream",
     "text": [
      "Epoch: 39 | Train loss: 0.0825 | Train acc: 0.9687 | Test loss: 0.1230 | Test acc: 0.9538\n"
     ]
    },
    {
     "name": "stderr",
     "output_type": "stream",
     "text": [
      "100%|██████████| 157/157 [03:00<00:00,  1.15s/it, loss=0.121]\n"
     ]
    },
    {
     "name": "stdout",
     "output_type": "stream",
     "text": [
      "Epoch: 40 | Train loss: 0.0777 | Train acc: 0.9700 | Test loss: 0.1101 | Test acc: 0.9600\n"
     ]
    },
    {
     "name": "stderr",
     "output_type": "stream",
     "text": [
      "100%|██████████| 157/157 [03:00<00:00,  1.15s/it, loss=0.103]\n"
     ]
    },
    {
     "name": "stdout",
     "output_type": "stream",
     "text": [
      "Epoch: 41 | Train loss: 0.0761 | Train acc: 0.9710 | Test loss: 0.1076 | Test acc: 0.9605\n"
     ]
    },
    {
     "name": "stderr",
     "output_type": "stream",
     "text": [
      "100%|██████████| 157/157 [03:00<00:00,  1.15s/it, loss=0.0672]\n"
     ]
    },
    {
     "name": "stdout",
     "output_type": "stream",
     "text": [
      "Epoch: 42 | Train loss: 0.0748 | Train acc: 0.9714 | Test loss: 0.1109 | Test acc: 0.9595\n"
     ]
    },
    {
     "name": "stderr",
     "output_type": "stream",
     "text": [
      "100%|██████████| 157/157 [03:01<00:00,  1.15s/it, loss=0.0912]\n"
     ]
    },
    {
     "name": "stdout",
     "output_type": "stream",
     "text": [
      "Epoch: 43 | Train loss: 0.0733 | Train acc: 0.9722 | Test loss: 0.1122 | Test acc: 0.9576\n"
     ]
    },
    {
     "name": "stderr",
     "output_type": "stream",
     "text": [
      "100%|██████████| 157/157 [03:01<00:00,  1.16s/it, loss=0.0935]\n"
     ]
    },
    {
     "name": "stdout",
     "output_type": "stream",
     "text": [
      "Epoch: 44 | Train loss: 0.0739 | Train acc: 0.9720 | Test loss: 0.1128 | Test acc: 0.9565\n"
     ]
    },
    {
     "name": "stderr",
     "output_type": "stream",
     "text": [
      "100%|██████████| 157/157 [03:01<00:00,  1.15s/it, loss=0.107]\n"
     ]
    },
    {
     "name": "stdout",
     "output_type": "stream",
     "text": [
      "Epoch: 45 | Train loss: 0.0736 | Train acc: 0.9721 | Test loss: 0.1130 | Test acc: 0.9590\n"
     ]
    },
    {
     "name": "stderr",
     "output_type": "stream",
     "text": [
      "100%|██████████| 157/157 [03:00<00:00,  1.15s/it, loss=0.0565]\n"
     ]
    },
    {
     "name": "stdout",
     "output_type": "stream",
     "text": [
      "Epoch: 46 | Train loss: 0.0725 | Train acc: 0.9733 | Test loss: 0.1092 | Test acc: 0.9600\n"
     ]
    },
    {
     "name": "stderr",
     "output_type": "stream",
     "text": [
      "100%|██████████| 157/157 [03:01<00:00,  1.15s/it, loss=0.0332]\n"
     ]
    },
    {
     "name": "stdout",
     "output_type": "stream",
     "text": [
      "Epoch: 47 | Train loss: 0.0733 | Train acc: 0.9724 | Test loss: 0.1074 | Test acc: 0.9602\n"
     ]
    },
    {
     "name": "stderr",
     "output_type": "stream",
     "text": [
      "100%|██████████| 157/157 [02:59<00:00,  1.15s/it, loss=0.0231]\n"
     ]
    },
    {
     "name": "stdout",
     "output_type": "stream",
     "text": [
      "Epoch: 48 | Train loss: 0.0708 | Train acc: 0.9735 | Test loss: 0.1104 | Test acc: 0.9583\n"
     ]
    },
    {
     "name": "stderr",
     "output_type": "stream",
     "text": [
      "100%|██████████| 157/157 [03:00<00:00,  1.15s/it, loss=0.039]\n"
     ]
    },
    {
     "name": "stdout",
     "output_type": "stream",
     "text": [
      "Epoch: 49 | Train loss: 0.0711 | Train acc: 0.9733 | Test loss: 0.1122 | Test acc: 0.9578\n"
     ]
    },
    {
     "name": "stderr",
     "output_type": "stream",
     "text": [
      "100%|██████████| 157/157 [03:00<00:00,  1.15s/it, loss=0.0766]\n"
     ]
    },
    {
     "name": "stdout",
     "output_type": "stream",
     "text": [
      "Epoch: 50 | Train loss: 0.0705 | Train acc: 0.9731 | Test loss: 0.1110 | Test acc: 0.9594\n"
     ]
    },
    {
     "name": "stderr",
     "output_type": "stream",
     "text": [
      "100%|██████████| 157/157 [02:59<00:00,  1.15s/it, loss=0.0803]\n"
     ]
    },
    {
     "name": "stdout",
     "output_type": "stream",
     "text": [
      "Epoch: 51 | Train loss: 0.0715 | Train acc: 0.9731 | Test loss: 0.1112 | Test acc: 0.9591\n"
     ]
    },
    {
     "name": "stderr",
     "output_type": "stream",
     "text": [
      "100%|██████████| 157/157 [02:59<00:00,  1.15s/it, loss=0.0985]\n"
     ]
    },
    {
     "name": "stdout",
     "output_type": "stream",
     "text": [
      "Epoch: 52 | Train loss: 0.0713 | Train acc: 0.9729 | Test loss: 0.1104 | Test acc: 0.9599\n"
     ]
    },
    {
     "name": "stderr",
     "output_type": "stream",
     "text": [
      "100%|██████████| 157/157 [02:59<00:00,  1.14s/it, loss=0.0962]\n"
     ]
    },
    {
     "name": "stdout",
     "output_type": "stream",
     "text": [
      "Epoch: 53 | Train loss: 0.0701 | Train acc: 0.9733 | Test loss: 0.1106 | Test acc: 0.9598\n"
     ]
    },
    {
     "name": "stderr",
     "output_type": "stream",
     "text": [
      "100%|██████████| 157/157 [03:00<00:00,  1.15s/it, loss=0.151]\n"
     ]
    },
    {
     "name": "stdout",
     "output_type": "stream",
     "text": [
      "Epoch: 54 | Train loss: 0.0703 | Train acc: 0.9734 | Test loss: 0.1056 | Test acc: 0.9622\n"
     ]
    },
    {
     "name": "stderr",
     "output_type": "stream",
     "text": [
      "100%|██████████| 157/157 [02:59<00:00,  1.14s/it, loss=0.0433]\n"
     ]
    },
    {
     "name": "stdout",
     "output_type": "stream",
     "text": [
      "Epoch: 55 | Train loss: 0.0710 | Train acc: 0.9731 | Test loss: 0.1103 | Test acc: 0.9600\n"
     ]
    },
    {
     "name": "stderr",
     "output_type": "stream",
     "text": [
      "100%|██████████| 157/157 [03:00<00:00,  1.15s/it, loss=0.115]\n"
     ]
    },
    {
     "name": "stdout",
     "output_type": "stream",
     "text": [
      "Epoch: 56 | Train loss: 0.0696 | Train acc: 0.9740 | Test loss: 0.1106 | Test acc: 0.9616\n"
     ]
    },
    {
     "name": "stderr",
     "output_type": "stream",
     "text": [
      "100%|██████████| 157/157 [03:00<00:00,  1.15s/it, loss=0.0552]\n"
     ]
    },
    {
     "name": "stdout",
     "output_type": "stream",
     "text": [
      "Epoch: 57 | Train loss: 0.0694 | Train acc: 0.9739 | Test loss: 0.1090 | Test acc: 0.9600\n"
     ]
    },
    {
     "name": "stderr",
     "output_type": "stream",
     "text": [
      "100%|██████████| 157/157 [02:59<00:00,  1.14s/it, loss=0.115]\n"
     ]
    },
    {
     "name": "stdout",
     "output_type": "stream",
     "text": [
      "Epoch: 58 | Train loss: 0.0698 | Train acc: 0.9731 | Test loss: 0.1114 | Test acc: 0.9582\n"
     ]
    },
    {
     "name": "stderr",
     "output_type": "stream",
     "text": [
      "100%|██████████| 157/157 [02:59<00:00,  1.15s/it, loss=0.0472]\n"
     ]
    },
    {
     "name": "stdout",
     "output_type": "stream",
     "text": [
      "Epoch: 59 | Train loss: 0.0700 | Train acc: 0.9738 | Test loss: 0.1112 | Test acc: 0.9594\n"
     ]
    },
    {
     "name": "stderr",
     "output_type": "stream",
     "text": [
      "100%|██████████| 157/157 [02:59<00:00,  1.14s/it, loss=0.0848]\n"
     ]
    },
    {
     "name": "stdout",
     "output_type": "stream",
     "text": [
      "Epoch: 60 | Train loss: 0.0690 | Train acc: 0.9742 | Test loss: 0.1103 | Test acc: 0.9595\n"
     ]
    },
    {
     "name": "stderr",
     "output_type": "stream",
     "text": [
      "100%|██████████| 157/157 [02:59<00:00,  1.15s/it, loss=0.0606]\n"
     ]
    },
    {
     "name": "stdout",
     "output_type": "stream",
     "text": [
      "Epoch: 61 | Train loss: 0.0690 | Train acc: 0.9741 | Test loss: 0.1122 | Test acc: 0.9587\n"
     ]
    },
    {
     "name": "stderr",
     "output_type": "stream",
     "text": [
      "100%|██████████| 157/157 [02:58<00:00,  1.14s/it, loss=0.0764]\n"
     ]
    },
    {
     "name": "stdout",
     "output_type": "stream",
     "text": [
      "Epoch: 62 | Train loss: 0.0687 | Train acc: 0.9736 | Test loss: 0.1086 | Test acc: 0.9604\n"
     ]
    },
    {
     "name": "stderr",
     "output_type": "stream",
     "text": [
      "100%|██████████| 157/157 [02:59<00:00,  1.14s/it, loss=0.148]\n"
     ]
    },
    {
     "name": "stdout",
     "output_type": "stream",
     "text": [
      "Epoch: 63 | Train loss: 0.0712 | Train acc: 0.9728 | Test loss: 0.1127 | Test acc: 0.9593\n"
     ]
    },
    {
     "name": "stderr",
     "output_type": "stream",
     "text": [
      "100%|██████████| 157/157 [02:59<00:00,  1.14s/it, loss=0.0875]\n"
     ]
    },
    {
     "name": "stdout",
     "output_type": "stream",
     "text": [
      "Epoch: 64 | Train loss: 0.0697 | Train acc: 0.9731 | Test loss: 0.1095 | Test acc: 0.9591\n"
     ]
    },
    {
     "name": "stderr",
     "output_type": "stream",
     "text": [
      "100%|██████████| 157/157 [02:59<00:00,  1.14s/it, loss=0.0457]\n"
     ]
    },
    {
     "name": "stdout",
     "output_type": "stream",
     "text": [
      "Epoch: 65 | Train loss: 0.0691 | Train acc: 0.9744 | Test loss: 0.1127 | Test acc: 0.9594\n"
     ]
    },
    {
     "name": "stderr",
     "output_type": "stream",
     "text": [
      "100%|██████████| 157/157 [03:00<00:00,  1.15s/it, loss=0.12]\n"
     ]
    },
    {
     "name": "stdout",
     "output_type": "stream",
     "text": [
      "Epoch: 66 | Train loss: 0.0700 | Train acc: 0.9733 | Test loss: 0.1110 | Test acc: 0.9593\n"
     ]
    },
    {
     "name": "stderr",
     "output_type": "stream",
     "text": [
      "100%|██████████| 157/157 [03:01<00:00,  1.15s/it, loss=0.0597]\n"
     ]
    },
    {
     "name": "stdout",
     "output_type": "stream",
     "text": [
      "Epoch: 67 | Train loss: 0.0694 | Train acc: 0.9743 | Test loss: 0.1090 | Test acc: 0.9607\n"
     ]
    },
    {
     "name": "stderr",
     "output_type": "stream",
     "text": [
      "100%|██████████| 157/157 [02:59<00:00,  1.14s/it, loss=0.0776]\n"
     ]
    },
    {
     "name": "stdout",
     "output_type": "stream",
     "text": [
      "Epoch: 68 | Train loss: 0.0693 | Train acc: 0.9738 | Test loss: 0.1122 | Test acc: 0.9592\n"
     ]
    },
    {
     "name": "stderr",
     "output_type": "stream",
     "text": [
      "100%|██████████| 157/157 [02:59<00:00,  1.14s/it, loss=0.0617]\n"
     ]
    },
    {
     "name": "stdout",
     "output_type": "stream",
     "text": [
      "Epoch: 69 | Train loss: 0.0687 | Train acc: 0.9738 | Test loss: 0.1074 | Test acc: 0.9611\n"
     ]
    },
    {
     "name": "stderr",
     "output_type": "stream",
     "text": [
      "100%|██████████| 157/157 [03:00<00:00,  1.15s/it, loss=0.0637]\n"
     ]
    },
    {
     "name": "stdout",
     "output_type": "stream",
     "text": [
      "Epoch: 70 | Train loss: 0.0695 | Train acc: 0.9733 | Test loss: 0.1098 | Test acc: 0.9585\n"
     ]
    },
    {
     "name": "stderr",
     "output_type": "stream",
     "text": [
      "100%|██████████| 157/157 [03:00<00:00,  1.15s/it, loss=0.107]\n"
     ]
    },
    {
     "name": "stdout",
     "output_type": "stream",
     "text": [
      "Epoch: 71 | Train loss: 0.0697 | Train acc: 0.9738 | Test loss: 0.1108 | Test acc: 0.9603\n"
     ]
    },
    {
     "name": "stderr",
     "output_type": "stream",
     "text": [
      "100%|██████████| 157/157 [03:00<00:00,  1.15s/it, loss=0.142]\n"
     ]
    },
    {
     "name": "stdout",
     "output_type": "stream",
     "text": [
      "Epoch: 72 | Train loss: 0.0696 | Train acc: 0.9740 | Test loss: 0.1090 | Test acc: 0.9605\n"
     ]
    },
    {
     "name": "stderr",
     "output_type": "stream",
     "text": [
      "100%|██████████| 157/157 [03:00<00:00,  1.15s/it, loss=0.106]\n"
     ]
    },
    {
     "name": "stdout",
     "output_type": "stream",
     "text": [
      "Epoch: 73 | Train loss: 0.0694 | Train acc: 0.9737 | Test loss: 0.1127 | Test acc: 0.9591\n"
     ]
    },
    {
     "name": "stderr",
     "output_type": "stream",
     "text": [
      "100%|██████████| 157/157 [03:00<00:00,  1.15s/it, loss=0.167]\n"
     ]
    },
    {
     "name": "stdout",
     "output_type": "stream",
     "text": [
      "Epoch: 74 | Train loss: 0.0691 | Train acc: 0.9740 | Test loss: 0.1082 | Test acc: 0.9598\n"
     ]
    },
    {
     "name": "stderr",
     "output_type": "stream",
     "text": [
      "100%|██████████| 157/157 [03:00<00:00,  1.15s/it, loss=0.17]\n"
     ]
    },
    {
     "name": "stdout",
     "output_type": "stream",
     "text": [
      "Epoch: 75 | Train loss: 0.0701 | Train acc: 0.9736 | Test loss: 0.1104 | Test acc: 0.9604\n"
     ]
    },
    {
     "name": "stderr",
     "output_type": "stream",
     "text": [
      "100%|██████████| 157/157 [03:00<00:00,  1.15s/it, loss=0.0629]\n"
     ]
    },
    {
     "name": "stdout",
     "output_type": "stream",
     "text": [
      "Epoch: 76 | Train loss: 0.0710 | Train acc: 0.9732 | Test loss: 0.1121 | Test acc: 0.9595\n"
     ]
    },
    {
     "name": "stderr",
     "output_type": "stream",
     "text": [
      "100%|██████████| 157/157 [03:01<00:00,  1.16s/it, loss=0.031]\n"
     ]
    },
    {
     "name": "stdout",
     "output_type": "stream",
     "text": [
      "Epoch: 77 | Train loss: 0.0687 | Train acc: 0.9736 | Test loss: 0.1130 | Test acc: 0.9588\n"
     ]
    },
    {
     "name": "stderr",
     "output_type": "stream",
     "text": [
      "100%|██████████| 157/157 [03:00<00:00,  1.15s/it, loss=0.0603]\n"
     ]
    },
    {
     "name": "stdout",
     "output_type": "stream",
     "text": [
      "Epoch: 78 | Train loss: 0.0694 | Train acc: 0.9736 | Test loss: 0.1149 | Test acc: 0.9583\n"
     ]
    },
    {
     "name": "stderr",
     "output_type": "stream",
     "text": [
      "100%|██████████| 157/157 [02:59<00:00,  1.15s/it, loss=0.131]\n"
     ]
    },
    {
     "name": "stdout",
     "output_type": "stream",
     "text": [
      "Epoch: 79 | Train loss: 0.0703 | Train acc: 0.9733 | Test loss: 0.1113 | Test acc: 0.9586\n"
     ]
    },
    {
     "name": "stderr",
     "output_type": "stream",
     "text": [
      "100%|██████████| 157/157 [02:59<00:00,  1.14s/it, loss=0.159]\n"
     ]
    },
    {
     "name": "stdout",
     "output_type": "stream",
     "text": [
      "Epoch: 80 | Train loss: 0.0692 | Train acc: 0.9741 | Test loss: 0.1099 | Test acc: 0.9605\n"
     ]
    },
    {
     "name": "stderr",
     "output_type": "stream",
     "text": [
      "100%|██████████| 157/157 [02:59<00:00,  1.14s/it, loss=0.0417]\n"
     ]
    },
    {
     "name": "stdout",
     "output_type": "stream",
     "text": [
      "Epoch: 81 | Train loss: 0.0676 | Train acc: 0.9743 | Test loss: 0.1107 | Test acc: 0.9590\n"
     ]
    },
    {
     "name": "stderr",
     "output_type": "stream",
     "text": [
      "100%|██████████| 157/157 [02:59<00:00,  1.14s/it, loss=0.108]\n"
     ]
    },
    {
     "name": "stdout",
     "output_type": "stream",
     "text": [
      "Epoch: 82 | Train loss: 0.0698 | Train acc: 0.9737 | Test loss: 0.1099 | Test acc: 0.9597\n"
     ]
    },
    {
     "name": "stderr",
     "output_type": "stream",
     "text": [
      "100%|██████████| 157/157 [02:59<00:00,  1.14s/it, loss=0.0734]\n"
     ]
    },
    {
     "name": "stdout",
     "output_type": "stream",
     "text": [
      "Epoch: 83 | Train loss: 0.0702 | Train acc: 0.9731 | Test loss: 0.1103 | Test acc: 0.9595\n"
     ]
    },
    {
     "name": "stderr",
     "output_type": "stream",
     "text": [
      "100%|██████████| 157/157 [02:59<00:00,  1.15s/it, loss=0.0341]\n"
     ]
    },
    {
     "name": "stdout",
     "output_type": "stream",
     "text": [
      "Epoch: 84 | Train loss: 0.0698 | Train acc: 0.9734 | Test loss: 0.1125 | Test acc: 0.9596\n"
     ]
    },
    {
     "name": "stderr",
     "output_type": "stream",
     "text": [
      "100%|██████████| 157/157 [03:00<00:00,  1.15s/it, loss=0.072]\n"
     ]
    },
    {
     "name": "stdout",
     "output_type": "stream",
     "text": [
      "Epoch: 85 | Train loss: 0.0691 | Train acc: 0.9739 | Test loss: 0.1159 | Test acc: 0.9588\n"
     ]
    },
    {
     "name": "stderr",
     "output_type": "stream",
     "text": [
      "100%|██████████| 157/157 [02:59<00:00,  1.14s/it, loss=0.104]\n"
     ]
    },
    {
     "name": "stdout",
     "output_type": "stream",
     "text": [
      "Epoch: 86 | Train loss: 0.0689 | Train acc: 0.9743 | Test loss: 0.1108 | Test acc: 0.9600\n"
     ]
    },
    {
     "name": "stderr",
     "output_type": "stream",
     "text": [
      "100%|██████████| 157/157 [02:58<00:00,  1.14s/it, loss=0.0563]\n"
     ]
    },
    {
     "name": "stdout",
     "output_type": "stream",
     "text": [
      "Epoch: 87 | Train loss: 0.0693 | Train acc: 0.9738 | Test loss: 0.1127 | Test acc: 0.9588\n"
     ]
    },
    {
     "name": "stderr",
     "output_type": "stream",
     "text": [
      "100%|██████████| 157/157 [02:58<00:00,  1.14s/it, loss=0.0642]\n"
     ]
    },
    {
     "name": "stdout",
     "output_type": "stream",
     "text": [
      "Epoch: 88 | Train loss: 0.0694 | Train acc: 0.9731 | Test loss: 0.1118 | Test acc: 0.9583\n"
     ]
    },
    {
     "name": "stderr",
     "output_type": "stream",
     "text": [
      "100%|██████████| 157/157 [02:59<00:00,  1.14s/it, loss=0.0621]\n"
     ]
    },
    {
     "name": "stdout",
     "output_type": "stream",
     "text": [
      "Epoch: 89 | Train loss: 0.0696 | Train acc: 0.9738 | Test loss: 0.1118 | Test acc: 0.9602\n"
     ]
    },
    {
     "name": "stderr",
     "output_type": "stream",
     "text": [
      "100%|██████████| 157/157 [02:58<00:00,  1.14s/it, loss=0.171]\n"
     ]
    },
    {
     "name": "stdout",
     "output_type": "stream",
     "text": [
      "Epoch: 90 | Train loss: 0.0711 | Train acc: 0.9732 | Test loss: 0.1120 | Test acc: 0.9597\n"
     ]
    },
    {
     "name": "stderr",
     "output_type": "stream",
     "text": [
      "100%|██████████| 157/157 [03:00<00:00,  1.15s/it, loss=0.0677]\n"
     ]
    },
    {
     "name": "stdout",
     "output_type": "stream",
     "text": [
      "Epoch: 91 | Train loss: 0.0686 | Train acc: 0.9738 | Test loss: 0.1114 | Test acc: 0.9591\n"
     ]
    },
    {
     "name": "stderr",
     "output_type": "stream",
     "text": [
      "100%|██████████| 157/157 [03:00<00:00,  1.15s/it, loss=0.0554]\n"
     ]
    },
    {
     "name": "stdout",
     "output_type": "stream",
     "text": [
      "Epoch: 92 | Train loss: 0.0701 | Train acc: 0.9734 | Test loss: 0.1115 | Test acc: 0.9600\n"
     ]
    },
    {
     "name": "stderr",
     "output_type": "stream",
     "text": [
      "100%|██████████| 157/157 [02:59<00:00,  1.14s/it, loss=0.0536]\n"
     ]
    },
    {
     "name": "stdout",
     "output_type": "stream",
     "text": [
      "Epoch: 93 | Train loss: 0.0695 | Train acc: 0.9736 | Test loss: 0.1098 | Test acc: 0.9610\n"
     ]
    },
    {
     "name": "stderr",
     "output_type": "stream",
     "text": [
      "100%|██████████| 157/157 [02:59<00:00,  1.14s/it, loss=0.0689]\n"
     ]
    },
    {
     "name": "stdout",
     "output_type": "stream",
     "text": [
      "Epoch: 94 | Train loss: 0.0675 | Train acc: 0.9741 | Test loss: 0.1143 | Test acc: 0.9583\n"
     ]
    },
    {
     "name": "stderr",
     "output_type": "stream",
     "text": [
      "100%|██████████| 157/157 [02:58<00:00,  1.14s/it, loss=0.117]\n"
     ]
    },
    {
     "name": "stdout",
     "output_type": "stream",
     "text": [
      "Epoch: 95 | Train loss: 0.0709 | Train acc: 0.9730 | Test loss: 0.1102 | Test acc: 0.9587\n"
     ]
    },
    {
     "name": "stderr",
     "output_type": "stream",
     "text": [
      "100%|██████████| 157/157 [02:58<00:00,  1.14s/it, loss=0.0609]\n"
     ]
    },
    {
     "name": "stdout",
     "output_type": "stream",
     "text": [
      "Epoch: 96 | Train loss: 0.0688 | Train acc: 0.9734 | Test loss: 0.1123 | Test acc: 0.9587\n"
     ]
    },
    {
     "name": "stderr",
     "output_type": "stream",
     "text": [
      "100%|██████████| 157/157 [02:58<00:00,  1.14s/it, loss=0.0383]\n"
     ]
    },
    {
     "name": "stdout",
     "output_type": "stream",
     "text": [
      "Epoch: 97 | Train loss: 0.0692 | Train acc: 0.9739 | Test loss: 0.1085 | Test acc: 0.9598\n"
     ]
    },
    {
     "name": "stderr",
     "output_type": "stream",
     "text": [
      "100%|██████████| 157/157 [02:58<00:00,  1.14s/it, loss=0.0554]\n"
     ]
    },
    {
     "name": "stdout",
     "output_type": "stream",
     "text": [
      "Epoch: 98 | Train loss: 0.0695 | Train acc: 0.9739 | Test loss: 0.1111 | Test acc: 0.9590\n"
     ]
    },
    {
     "name": "stderr",
     "output_type": "stream",
     "text": [
      "100%|██████████| 157/157 [02:58<00:00,  1.14s/it, loss=0.0544]\n"
     ]
    },
    {
     "name": "stdout",
     "output_type": "stream",
     "text": [
      "Epoch: 99 | Train loss: 0.0702 | Train acc: 0.9736 | Test loss: 0.1096 | Test acc: 0.9601\n"
     ]
    },
    {
     "name": "stderr",
     "output_type": "stream",
     "text": [
      "100%|██████████| 157/157 [02:58<00:00,  1.14s/it, loss=0.078]\n"
     ]
    },
    {
     "name": "stdout",
     "output_type": "stream",
     "text": [
      "Epoch: 100 | Train loss: 0.0678 | Train acc: 0.9744 | Test loss: 0.1112 | Test acc: 0.9598\n",
      "Total Training Time: 19929.348\n",
      "=> Saving Checkpoint\n"
     ]
    }
   ],
   "source": [
    "trainer(model)"
   ]
  },
  {
   "cell_type": "code",
   "execution_count": 19,
   "id": "372f6ee5",
   "metadata": {
    "execution": {
     "iopub.execute_input": "2024-12-06T00:57:58.686900Z",
     "iopub.status.busy": "2024-12-06T00:57:58.686548Z",
     "iopub.status.idle": "2024-12-06T00:57:58.693074Z",
     "shell.execute_reply": "2024-12-06T00:57:58.692210Z"
    },
    "papermill": {
     "duration": 1.524554,
     "end_time": "2024-12-06T00:57:58.694578",
     "exception": false,
     "start_time": "2024-12-06T00:57:57.170024",
     "status": "completed"
    },
    "tags": []
   },
   "outputs": [
    {
     "data": {
      "text/html": [
       "<a href='res50_freq_checkpoint.pth.tar' target='_blank'>res50_freq_checkpoint.pth.tar</a><br>"
      ],
      "text/plain": [
       "/kaggle/working/res50_freq_checkpoint.pth.tar"
      ]
     },
     "execution_count": 19,
     "metadata": {},
     "output_type": "execute_result"
    }
   ],
   "source": [
    "import os\n",
    "from IPython.display import FileLink\n",
    "\n",
    "os.chdir(r'/kaggle/working')\n",
    "FileLink(r'res50_freq_checkpoint.pth.tar')"
   ]
  }
 ],
 "metadata": {
  "kaggle": {
   "accelerator": "gpu",
   "dataSources": [
    {
     "datasetId": 3041726,
     "sourceId": 5256696,
     "sourceType": "datasetVersion"
    }
   ],
   "dockerImageVersionId": 30805,
   "isGpuEnabled": true,
   "isInternetEnabled": true,
   "language": "python",
   "sourceType": "notebook"
  },
  "kernelspec": {
   "display_name": "Python 3",
   "language": "python",
   "name": "python3"
  },
  "language_info": {
   "codemirror_mode": {
    "name": "ipython",
    "version": 3
   },
   "file_extension": ".py",
   "mimetype": "text/x-python",
   "name": "python",
   "nbconvert_exporter": "python",
   "pygments_lexer": "ipython3",
   "version": "3.10.14"
  },
  "papermill": {
   "default_parameters": {},
   "duration": 19959.699786,
   "end_time": "2024-12-06T00:58:01.568577",
   "environment_variables": {},
   "exception": null,
   "input_path": "__notebook__.ipynb",
   "output_path": "__notebook__.ipynb",
   "parameters": {},
   "start_time": "2024-12-05T19:25:21.868791",
   "version": "2.6.0"
  }
 },
 "nbformat": 4,
 "nbformat_minor": 5
}
